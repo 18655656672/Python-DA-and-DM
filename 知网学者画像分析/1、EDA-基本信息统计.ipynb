{
 "cells": [
  {
   "cell_type": "markdown",
   "metadata": {},
   "source": [
    "# 1、导入数据"
   ]
  },
  {
   "cell_type": "code",
   "execution_count": 22,
   "metadata": {},
   "outputs": [],
   "source": [
    "import pandas as pd\n",
    "import numpy as np\n",
    "import matplotlib.pyplot as plt\n",
    "import seaborn as sns\n",
    "plt.style.use('seaborn')   #应用风格\n",
    "plt.rcParams['font.sans-serif']='SimHei'\n",
    "plt.rcParams['axes.unicode_minus']=False"
   ]
  },
  {
   "cell_type": "code",
   "execution_count": 2,
   "metadata": {},
   "outputs": [
    {
     "data": {
      "text/html": [
       "<div>\n",
       "<style scoped>\n",
       "    .dataframe tbody tr th:only-of-type {\n",
       "        vertical-align: middle;\n",
       "    }\n",
       "\n",
       "    .dataframe tbody tr th {\n",
       "        vertical-align: top;\n",
       "    }\n",
       "\n",
       "    .dataframe thead th {\n",
       "        text-align: right;\n",
       "    }\n",
       "</style>\n",
       "<table border=\"1\" class=\"dataframe\">\n",
       "  <thead>\n",
       "    <tr style=\"text-align: right;\">\n",
       "      <th></th>\n",
       "      <th>Title-题名</th>\n",
       "      <th>Author-作者</th>\n",
       "      <th>Organ-单位</th>\n",
       "      <th>Source-文献来源</th>\n",
       "      <th>Keyword-关键词</th>\n",
       "      <th>Summary-摘要</th>\n",
       "      <th>PubTime-发表时间</th>\n",
       "    </tr>\n",
       "  </thead>\n",
       "  <tbody>\n",
       "    <tr>\n",
       "      <th>0</th>\n",
       "      <td>应用金融科技创新服务小微企业的途径与机制研究</td>\n",
       "      <td>李慧;</td>\n",
       "      <td>中国工商银行股份有限公司天津市分行;</td>\n",
       "      <td>第三十四届中国（天津）2020’IT、网络、信息技术、电子、仪器仪表创新学术会议论文集</td>\n",
       "      <td>融资困境;;金融科技;;小微企业</td>\n",
       "      <td>近些年来,人工智能、区块链、云计算和大数据成为了各行各业的焦点,传统金融业包括商业银行在内,...</td>\n",
       "      <td>2020-08-17</td>\n",
       "    </tr>\n",
       "    <tr>\n",
       "      <th>1</th>\n",
       "      <td>金融科技研究进展与评析</td>\n",
       "      <td>鲁钊阳;张珂瑞;</td>\n",
       "      <td>西南政法大学经济学院;</td>\n",
       "      <td>金融理论与实践</td>\n",
       "      <td>金融科技;;金融创新;;金融发展</td>\n",
       "      <td>从历史的角度来看,金融科技的产生是数百年来技术变革的必然产物,大数据、区块链、云计算、人工智...</td>\n",
       "      <td>2020-08-12</td>\n",
       "    </tr>\n",
       "    <tr>\n",
       "      <th>2</th>\n",
       "      <td>打造科技创新引擎 赋能业务价值创造</td>\n",
       "      <td>陈满才;</td>\n",
       "      <td>中国工商银行金融科技部;</td>\n",
       "      <td>中国金融电脑</td>\n",
       "      <td>云计算平台;物联网;人工智能技术;普惠金融发展;服务实体经济;工作体制机制;产学研用;银行业...</td>\n",
       "      <td>当前,金融科技已逐渐从后台走向前台,成为推动金融转型升级的新引擎、金融服务实体经济的新途径、...</td>\n",
       "      <td>2020-08-07</td>\n",
       "    </tr>\n",
       "    <tr>\n",
       "      <th>3</th>\n",
       "      <td>新兴技术创新应用重塑金融服务 助力金融业数字化战略转型</td>\n",
       "      <td>赵希同;</td>\n",
       "      <td>中国银行信息科技部;</td>\n",
       "      <td>中国金融电脑</td>\n",
       "      <td>监管效能;新兴技术;区块链;差异化优势;容错纠错机制;数字化转型;创新应用;金融业;银行业;...</td>\n",
       "      <td>面对金融竞争的新常态,商业银行要顺势而为、及时转型,利用新兴技术撬动金融创新,构建以客户为中...</td>\n",
       "      <td>2020-08-07</td>\n",
       "    </tr>\n",
       "    <tr>\n",
       "      <th>4</th>\n",
       "      <td>发力新技术创新,为金融服务注入新动能</td>\n",
       "      <td>寇冠;</td>\n",
       "      <td>中信银行信息技术管理部;</td>\n",
       "      <td>中国金融电脑</td>\n",
       "      <td>中信银行;技术服务平台;物联网;平台体系;科技创新工作;区块链;人工智能;供应链金融;数字货...</td>\n",
       "      <td>中信银行秉承\"新技术驱动、价值导向\"的科技创新理念,兼顾互联网\"快\"和银行\"稳\"的特点,重点...</td>\n",
       "      <td>2020-08-07</td>\n",
       "    </tr>\n",
       "  </tbody>\n",
       "</table>\n",
       "</div>"
      ],
      "text/plain": [
       "                      Title-题名 Author-作者            Organ-单位  \\\n",
       "0       应用金融科技创新服务小微企业的途径与机制研究       李慧;  中国工商银行股份有限公司天津市分行;   \n",
       "1                  金融科技研究进展与评析  鲁钊阳;张珂瑞;         西南政法大学经济学院;   \n",
       "2            打造科技创新引擎 赋能业务价值创造      陈满才;        中国工商银行金融科技部;   \n",
       "3  新兴技术创新应用重塑金融服务 助力金融业数字化战略转型      赵希同;          中国银行信息科技部;   \n",
       "4           发力新技术创新,为金融服务注入新动能       寇冠;        中信银行信息技术管理部;   \n",
       "\n",
       "                                   Source-文献来源  \\\n",
       "0  第三十四届中国（天津）2020’IT、网络、信息技术、电子、仪器仪表创新学术会议论文集   \n",
       "1                                      金融理论与实践   \n",
       "2                                       中国金融电脑   \n",
       "3                                       中国金融电脑   \n",
       "4                                       中国金融电脑   \n",
       "\n",
       "                                         Keyword-关键词  \\\n",
       "0                                   融资困境;;金融科技;;小微企业   \n",
       "1                                   金融科技;;金融创新;;金融发展   \n",
       "2  云计算平台;物联网;人工智能技术;普惠金融发展;服务实体经济;工作体制机制;产学研用;银行业...   \n",
       "3  监管效能;新兴技术;区块链;差异化优势;容错纠错机制;数字化转型;创新应用;金融业;银行业;...   \n",
       "4  中信银行;技术服务平台;物联网;平台体系;科技创新工作;区块链;人工智能;供应链金融;数字货...   \n",
       "\n",
       "                                          Summary-摘要 PubTime-发表时间  \n",
       "0  近些年来,人工智能、区块链、云计算和大数据成为了各行各业的焦点,传统金融业包括商业银行在内,...   2020-08-17  \n",
       "1  从历史的角度来看,金融科技的产生是数百年来技术变革的必然产物,大数据、区块链、云计算、人工智...   2020-08-12  \n",
       "2  当前,金融科技已逐渐从后台走向前台,成为推动金融转型升级的新引擎、金融服务实体经济的新途径、...   2020-08-07  \n",
       "3  面对金融竞争的新常态,商业银行要顺势而为、及时转型,利用新兴技术撬动金融创新,构建以客户为中...   2020-08-07  \n",
       "4  中信银行秉承\"新技术驱动、价值导向\"的科技创新理念,兼顾互联网\"快\"和银行\"稳\"的特点,重点...   2020-08-07  "
      ]
     },
     "execution_count": 2,
     "metadata": {},
     "output_type": "execute_result"
    }
   ],
   "source": [
    "df=pd.read_csv('CNKI.csv',encoding='gbk')\n",
    "df.head()"
   ]
  },
  {
   "cell_type": "markdown",
   "metadata": {},
   "source": [
    "## 2、作者计数统计"
   ]
  },
  {
   "cell_type": "code",
   "execution_count": 25,
   "metadata": {},
   "outputs": [
    {
     "name": "stdout",
     "output_type": "stream",
     "text": [
      "根据作着排序结果如下：\n"
     ]
    },
    {
     "data": {
      "text/html": [
       "<div>\n",
       "<style scoped>\n",
       "    .dataframe tbody tr th:only-of-type {\n",
       "        vertical-align: middle;\n",
       "    }\n",
       "\n",
       "    .dataframe tbody tr th {\n",
       "        vertical-align: top;\n",
       "    }\n",
       "\n",
       "    .dataframe thead th {\n",
       "        text-align: right;\n",
       "    }\n",
       "</style>\n",
       "<table border=\"1\" class=\"dataframe\">\n",
       "  <thead>\n",
       "    <tr style=\"text-align: right;\">\n",
       "      <th></th>\n",
       "      <th>Title-题名</th>\n",
       "      <th>Author-作者</th>\n",
       "      <th>Organ-单位</th>\n",
       "      <th>Source-文献来源</th>\n",
       "      <th>Keyword-关键词</th>\n",
       "      <th>Summary-摘要</th>\n",
       "      <th>PubTime-发表时间</th>\n",
       "      <th>数量</th>\n",
       "    </tr>\n",
       "  </thead>\n",
       "  <tbody>\n",
       "    <tr>\n",
       "      <th>74</th>\n",
       "      <td>金融科技创新服务小微企业融资研究综述与展望</td>\n",
       "      <td>周雷;蔡佩瑶;刘婧;刘睿;</td>\n",
       "      <td>苏州市职业大学商学院;上海远想会计师事务所;东南大学经济管理学院;</td>\n",
       "      <td>市场周刊</td>\n",
       "      <td>金融科技;;小微企业;;融资;;区块链;;金融创新</td>\n",
       "      <td>随着区块链、人工智能、大数据等前沿技术与金融业的深度融合,金融科技迅速发展,为解决小微企业融...</td>\n",
       "      <td>2020-04-01</td>\n",
       "      <td>15</td>\n",
       "    </tr>\n",
       "    <tr>\n",
       "      <th>351</th>\n",
       "      <td>金融科技创新支持小微企业融资案例研究</td>\n",
       "      <td>周雷;刘睿;黄思涵;</td>\n",
       "      <td>苏州市职业大学商学院;东南大学经济管理学院;</td>\n",
       "      <td>Proceedings of 2019 International Conference o...</td>\n",
       "      <td>金融科技;;小微企业;;融资;;互联网金融;;大数据</td>\n",
       "      <td>金融科技的发展为解决小微企业融资这一\"世界性难题\"提供了新途径。作为国家开发银行的创新试点,...</td>\n",
       "      <td>2019-05-26</td>\n",
       "      <td>15</td>\n",
       "    </tr>\n",
       "    <tr>\n",
       "      <th>63</th>\n",
       "      <td>金融科技服务小微企业融资案例研究——以国开行旗下“开鑫贷”平台为例</td>\n",
       "      <td>周雷;刘睿;张璇;</td>\n",
       "      <td>苏州市职业大学商学院;东南大学数学学院;</td>\n",
       "      <td>金融理论与教学</td>\n",
       "      <td>金融科技;;小微企业;;融资;;互联网金融;;大数据</td>\n",
       "      <td>小微企业融资是金融服务实体经济的薄弱环节,而金融科技的发展为破解小微金融\"痛点\"提供了新途径...</td>\n",
       "      <td>2020-04-25</td>\n",
       "      <td>15</td>\n",
       "    </tr>\n",
       "    <tr>\n",
       "      <th>188</th>\n",
       "      <td>综合金融服务体系服务实体经济高质量发展研究——以苏州市小微企业数字征信实验区为例</td>\n",
       "      <td>周雷;刘睿;金吉鸿;</td>\n",
       "      <td>苏州市职业大学商学院;苏州市地方金融监督管理局;</td>\n",
       "      <td>征信</td>\n",
       "      <td>金融服务平台;;实体经济;;高质量发展;;金融科技;;数字征信;;小微企业</td>\n",
       "      <td>为破解民营小微企业融资的信息不对称难题,服务实体经济高质量发展,江苏省苏州市搭建了综合金融服...</td>\n",
       "      <td>2019-11-18</td>\n",
       "      <td>15</td>\n",
       "    </tr>\n",
       "    <tr>\n",
       "      <th>850</th>\n",
       "      <td>金融科技带动银行网点智能化</td>\n",
       "      <td>本刊编辑部;</td>\n",
       "      <td>时代金融</td>\n",
       "      <td>时代金融</td>\n",
       "      <td>银行网点;影像识别;</td>\n",
       "      <td>金融科技发展迅猛,国内银行越来越多地用更好的金融基础设施为更多用户提供高效率的服务。依托人工...</td>\n",
       "      <td>2017-08-10</td>\n",
       "      <td>12</td>\n",
       "    </tr>\n",
       "  </tbody>\n",
       "</table>\n",
       "</div>"
      ],
      "text/plain": [
       "                                     Title-题名      Author-作者  \\\n",
       "74                      金融科技创新服务小微企业融资研究综述与展望  周雷;蔡佩瑶;刘婧;刘睿;   \n",
       "351                        金融科技创新支持小微企业融资案例研究     周雷;刘睿;黄思涵;   \n",
       "63          金融科技服务小微企业融资案例研究——以国开行旗下“开鑫贷”平台为例      周雷;刘睿;张璇;   \n",
       "188  综合金融服务体系服务实体经济高质量发展研究——以苏州市小微企业数字征信实验区为例     周雷;刘睿;金吉鸿;   \n",
       "850                             金融科技带动银行网点智能化         本刊编辑部;   \n",
       "\n",
       "                              Organ-单位  \\\n",
       "74   苏州市职业大学商学院;上海远想会计师事务所;东南大学经济管理学院;   \n",
       "351             苏州市职业大学商学院;东南大学经济管理学院;   \n",
       "63                苏州市职业大学商学院;东南大学数学学院;   \n",
       "188           苏州市职业大学商学院;苏州市地方金融监督管理局;   \n",
       "850                               时代金融   \n",
       "\n",
       "                                           Source-文献来源  \\\n",
       "74                                                市场周刊   \n",
       "351  Proceedings of 2019 International Conference o...   \n",
       "63                                             金融理论与教学   \n",
       "188                                                 征信   \n",
       "850                                               时代金融   \n",
       "\n",
       "                               Keyword-关键词  \\\n",
       "74               金融科技;;小微企业;;融资;;区块链;;金融创新   \n",
       "351             金融科技;;小微企业;;融资;;互联网金融;;大数据   \n",
       "63              金融科技;;小微企业;;融资;;互联网金融;;大数据   \n",
       "188  金融服务平台;;实体经济;;高质量发展;;金融科技;;数字征信;;小微企业   \n",
       "850                             银行网点;影像识别;   \n",
       "\n",
       "                                            Summary-摘要 PubTime-发表时间  数量  \n",
       "74   随着区块链、人工智能、大数据等前沿技术与金融业的深度融合,金融科技迅速发展,为解决小微企业融...   2020-04-01  15  \n",
       "351  金融科技的发展为解决小微企业融资这一\"世界性难题\"提供了新途径。作为国家开发银行的创新试点,...   2019-05-26  15  \n",
       "63   小微企业融资是金融服务实体经济的薄弱环节,而金融科技的发展为破解小微金融\"痛点\"提供了新途径...   2020-04-25  15  \n",
       "188  为破解民营小微企业融资的信息不对称难题,服务实体经济高质量发展,江苏省苏州市搭建了综合金融服...   2019-11-18  15  \n",
       "850  金融科技发展迅猛,国内银行越来越多地用更好的金融基础设施为更多用户提供高效率的服务。依托人工...   2017-08-10  12  "
      ]
     },
     "execution_count": 25,
     "metadata": {},
     "output_type": "execute_result"
    },
    {
     "data": {
      "image/png": "[encoded data removed]",
      "text/plain": [
       "<Figure size 576x396 with 1 Axes>"
      ]
     },
     "metadata": {},
     "output_type": "display_data"
    }
   ],
   "source": [
    "keywords={}\n",
    "exponet=[]#每篇文章各个关键词出现次数之和，排序依据\n",
    "for keys in df['Author-作者']:\n",
    "    key_list=keys.split(';')\n",
    "    for key in key_list:\n",
    "        if key=='':\n",
    "            continue\n",
    "        if key in keywords:\n",
    "            keywords[key]+=1\n",
    "        else:\n",
    "            keywords[key]=1\n",
    "\n",
    "keywords=dict(sorted(keywords.items(),key=lambda x:x[1],reverse=True)[:10])\n",
    "plt.title('发表文章最多作者Top10')\n",
    "plt.bar(keywords.keys(),keywords.values())\n",
    "plt.xticks(rotation=30)\n",
    "#排序DataFrame\n",
    "for keys in df['Author-作者']:\n",
    "    score=0\n",
    "    for key in keys.split(';'):\n",
    "        try:\n",
    "            score+=keywords[key]\n",
    "        except:\n",
    "            pass\n",
    "    exponet.append(score)\n",
    "df['数量']=exponet\n",
    "df=df.sort_values(by='数量',ascending=False)\n",
    "print(\"根据作着排序结果如下：\")\n",
    "df.head()"
   ]
  },
  {
   "cell_type": "markdown",
   "metadata": {},
   "source": [
    "## 3、发表时间统计"
   ]
  },
  {
   "cell_type": "code",
   "execution_count": 4,
   "metadata": {},
   "outputs": [
    {
     "data": {
      "text/html": [
       "<div>\n",
       "<style scoped>\n",
       "    .dataframe tbody tr th:only-of-type {\n",
       "        vertical-align: middle;\n",
       "    }\n",
       "\n",
       "    .dataframe tbody tr th {\n",
       "        vertical-align: top;\n",
       "    }\n",
       "\n",
       "    .dataframe thead th {\n",
       "        text-align: right;\n",
       "    }\n",
       "</style>\n",
       "<table border=\"1\" class=\"dataframe\">\n",
       "  <thead>\n",
       "    <tr style=\"text-align: right;\">\n",
       "      <th></th>\n",
       "      <th>Title-题名</th>\n",
       "      <th>Author-作者</th>\n",
       "      <th>Organ-单位</th>\n",
       "      <th>Source-文献来源</th>\n",
       "      <th>Keyword-关键词</th>\n",
       "      <th>Summary-摘要</th>\n",
       "      <th>PubTime-发表时间</th>\n",
       "      <th>数量</th>\n",
       "    </tr>\n",
       "  </thead>\n",
       "  <tbody>\n",
       "    <tr>\n",
       "      <th>0</th>\n",
       "      <td>应用金融科技创新服务小微企业的途径与机制研究</td>\n",
       "      <td>李慧;</td>\n",
       "      <td>中国工商银行股份有限公司天津市分行;</td>\n",
       "      <td>第三十四届中国（天津）2020’IT、网络、信息技术、电子、仪器仪表创新学术会议论文集</td>\n",
       "      <td>融资困境;;金融科技;;小微企业</td>\n",
       "      <td>近些年来,人工智能、区块链、云计算和大数据成为了各行各业的焦点,传统金融业包括商业银行在内,...</td>\n",
       "      <td>2020-08-17</td>\n",
       "      <td>0</td>\n",
       "    </tr>\n",
       "    <tr>\n",
       "      <th>1</th>\n",
       "      <td>金融科技研究进展与评析</td>\n",
       "      <td>鲁钊阳;张珂瑞;</td>\n",
       "      <td>西南政法大学经济学院;</td>\n",
       "      <td>金融理论与实践</td>\n",
       "      <td>金融科技;;金融创新;;金融发展</td>\n",
       "      <td>从历史的角度来看,金融科技的产生是数百年来技术变革的必然产物,大数据、区块链、云计算、人工智...</td>\n",
       "      <td>2020-08-12</td>\n",
       "      <td>0</td>\n",
       "    </tr>\n",
       "    <tr>\n",
       "      <th>3</th>\n",
       "      <td>新兴技术创新应用重塑金融服务 助力金融业数字化战略转型</td>\n",
       "      <td>赵希同;</td>\n",
       "      <td>中国银行信息科技部;</td>\n",
       "      <td>中国金融电脑</td>\n",
       "      <td>监管效能;新兴技术;区块链;差异化优势;容错纠错机制;数字化转型;创新应用;金融业;银行业;...</td>\n",
       "      <td>面对金融竞争的新常态,商业银行要顺势而为、及时转型,利用新兴技术撬动金融创新,构建以客户为中...</td>\n",
       "      <td>2020-08-07</td>\n",
       "      <td>0</td>\n",
       "    </tr>\n",
       "    <tr>\n",
       "      <th>4</th>\n",
       "      <td>发力新技术创新,为金融服务注入新动能</td>\n",
       "      <td>寇冠;</td>\n",
       "      <td>中信银行信息技术管理部;</td>\n",
       "      <td>中国金融电脑</td>\n",
       "      <td>中信银行;技术服务平台;物联网;平台体系;科技创新工作;区块链;人工智能;供应链金融;数字货...</td>\n",
       "      <td>中信银行秉承\"新技术驱动、价值导向\"的科技创新理念,兼顾互联网\"快\"和银行\"稳\"的特点,重点...</td>\n",
       "      <td>2020-08-07</td>\n",
       "      <td>0</td>\n",
       "    </tr>\n",
       "    <tr>\n",
       "      <th>5</th>\n",
       "      <td>聚焦科技创新 智造数字光大</td>\n",
       "      <td>史晨阳;</td>\n",
       "      <td>中国光大银行信息科技部;</td>\n",
       "      <td>中国金融电脑</td>\n",
       "      <td>光大银行;科技创新机制;云计算平台;智能服务;研发平台;金融科技创新;分布式架构;数字化转型...</td>\n",
       "      <td>逆水行舟,不进则退。面对新时代复杂的内外部经济形势,光大银行将坚定战略发展定力,稳中求进,积...</td>\n",
       "      <td>2020-08-07</td>\n",
       "      <td>0</td>\n",
       "    </tr>\n",
       "  </tbody>\n",
       "</table>\n",
       "</div>"
      ],
      "text/plain": [
       "                      Title-题名 Author-作者            Organ-单位  \\\n",
       "0       应用金融科技创新服务小微企业的途径与机制研究       李慧;  中国工商银行股份有限公司天津市分行;   \n",
       "1                  金融科技研究进展与评析  鲁钊阳;张珂瑞;         西南政法大学经济学院;   \n",
       "3  新兴技术创新应用重塑金融服务 助力金融业数字化战略转型      赵希同;          中国银行信息科技部;   \n",
       "4           发力新技术创新,为金融服务注入新动能       寇冠;        中信银行信息技术管理部;   \n",
       "5                聚焦科技创新 智造数字光大      史晨阳;        中国光大银行信息科技部;   \n",
       "\n",
       "                                   Source-文献来源  \\\n",
       "0  第三十四届中国（天津）2020’IT、网络、信息技术、电子、仪器仪表创新学术会议论文集   \n",
       "1                                      金融理论与实践   \n",
       "3                                       中国金融电脑   \n",
       "4                                       中国金融电脑   \n",
       "5                                       中国金融电脑   \n",
       "\n",
       "                                         Keyword-关键词  \\\n",
       "0                                   融资困境;;金融科技;;小微企业   \n",
       "1                                   金融科技;;金融创新;;金融发展   \n",
       "3  监管效能;新兴技术;区块链;差异化优势;容错纠错机制;数字化转型;创新应用;金融业;银行业;...   \n",
       "4  中信银行;技术服务平台;物联网;平台体系;科技创新工作;区块链;人工智能;供应链金融;数字货...   \n",
       "5  光大银行;科技创新机制;云计算平台;智能服务;研发平台;金融科技创新;分布式架构;数字化转型...   \n",
       "\n",
       "                                          Summary-摘要 PubTime-发表时间  数量  \n",
       "0  近些年来,人工智能、区块链、云计算和大数据成为了各行各业的焦点,传统金融业包括商业银行在内,...   2020-08-17   0  \n",
       "1  从历史的角度来看,金融科技的产生是数百年来技术变革的必然产物,大数据、区块链、云计算、人工智...   2020-08-12   0  \n",
       "3  面对金融竞争的新常态,商业银行要顺势而为、及时转型,利用新兴技术撬动金融创新,构建以客户为中...   2020-08-07   0  \n",
       "4  中信银行秉承\"新技术驱动、价值导向\"的科技创新理念,兼顾互联网\"快\"和银行\"稳\"的特点,重点...   2020-08-07   0  \n",
       "5  逆水行舟,不进则退。面对新时代复杂的内外部经济形势,光大银行将坚定战略发展定力,稳中求进,积...   2020-08-07   0  "
      ]
     },
     "execution_count": 4,
     "metadata": {},
     "output_type": "execute_result"
    }
   ],
   "source": [
    "#将发表时间列转时间序列\n",
    "df=df.sort_values(by='PubTime-发表时间',ascending=False)\n",
    "df.head()"
   ]
  },
  {
   "cell_type": "markdown",
   "metadata": {},
   "source": [
    "# 4、绘制折线图"
   ]
  },
  {
   "cell_type": "code",
   "execution_count": 86,
   "metadata": {},
   "outputs": [
    {
     "data": {
      "text/plain": [
       "Text(0,0.5,'文章累计数')"
      ]
     },
     "execution_count": 86,
     "metadata": {},
     "output_type": "execute_result"
    },
    {
     "data": {
      "image/png": "[encoded data removed]",
      "text/plain": [
       "<Figure size 576x396 with 1 Axes>"
      ]
     },
     "metadata": {},
     "output_type": "display_data"
    }
   ],
   "source": [
    "dates=pd.to_datetime(df['PubTime-发表时间'])\n",
    "year_num=dates.map(lambda x:x.year).value_counts()\n",
    "year_num.index=year_num.index.sort_values(ascending=False)\n",
    "year_num.plot()\n",
    "plt.xlabel('年份')\n",
    "plt.ylabel('文章累计数')"
   ]
  },
  {
   "cell_type": "code",
   "execution_count": 85,
   "metadata": {},
   "outputs": [
    {
     "data": {
      "text/plain": [
       "Text(0,0.5,'文章累计数')"
      ]
     },
     "execution_count": 85,
     "metadata": {},
     "output_type": "execute_result"
    },
    {
     "data": {
      "image/png": "[encoded data removed]",
      "text/plain": [
       "<Figure size 576x396 with 1 Axes>"
      ]
     },
     "metadata": {},
     "output_type": "display_data"
    }
   ],
   "source": []
  },
  {
   "cell_type": "code",
   "execution_count": 73,
   "metadata": {},
   "outputs": [
    {
     "data": {
      "text/plain": [
       "2009    360\n",
       "2016    239\n",
       "2017    178\n",
       "2018    158\n",
       "2019     21\n",
       "2020      2\n",
       "Name: PubTime-发表时间, dtype: int64"
      ]
     },
     "execution_count": 73,
     "metadata": {},
     "output_type": "execute_result"
    }
   ],
   "source": []
  },
  {
   "cell_type": "code",
   "execution_count": 119,
   "metadata": {},
   "outputs": [
    {
     "name": "stdout",
     "output_type": "stream",
     "text": [
      "status:0,1,2\n",
      "begin_time:1563084688\n",
      "end_time:1563766460\n"
     ]
    }
   ],
   "source": [
    "s='status=0,1,2&begin_time=1563084688&end_time=1563766460'\n",
    "for i in s.split('&'):\n",
    "    print(i.split('=')[0]+':'+i.split('=')[1])"
   ]
  }
 ],
 "metadata": {
  "kernelspec": {
   "display_name": "Python 3",
   "language": "python",
   "name": "python3"
  },
  "language_info": {
   "codemirror_mode": {
    "name": "ipython",
    "version": 3
   },
   "file_extension": ".py",
   "mimetype": "text/x-python",
   "name": "python",
   "nbconvert_exporter": "python",
   "pygments_lexer": "ipython3",
   "version": "3.6.5"
  }
 },
 "nbformat": 4,
 "nbformat_minor": 2
}
