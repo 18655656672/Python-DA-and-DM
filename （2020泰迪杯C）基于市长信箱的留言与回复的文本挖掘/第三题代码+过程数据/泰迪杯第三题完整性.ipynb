{
 "cells": [
  {
   "cell_type": "code",
   "execution_count": 1,
   "metadata": {},
   "outputs": [
    {
     "name": "stderr",
     "output_type": "stream",
     "text": [
      "Building prefix dict from the default dictionary ...\n",
      "Loading model from cache C:\\Users\\lzh\\AppData\\Local\\Temp\\jieba.cache\n",
      "Loading model cost 0.702 seconds.\n",
      "Prefix dict has been built successfully.\n"
     ]
    }
   ],
   "source": [
    "import pandas as pd\n",
    "import numpy as np\n",
    "from ltp_method import LtpParser\n",
    "import matplotlib.pyplot as plt\n",
    "plt.rcParams['font.sans-serif']='SimHei'\n",
    "plt.rcParams['axes.unicode_minus']=False"
   ]
  },
  {
   "cell_type": "code",
   "execution_count": 2,
   "metadata": {},
   "outputs": [
    {
     "data": {
      "text/html": [
       "<div>\n",
       "<style scoped>\n",
       "    .dataframe tbody tr th:only-of-type {\n",
       "        vertical-align: middle;\n",
       "    }\n",
       "\n",
       "    .dataframe tbody tr th {\n",
       "        vertical-align: top;\n",
       "    }\n",
       "\n",
       "    .dataframe thead th {\n",
       "        text-align: right;\n",
       "    }\n",
       "</style>\n",
       "<table border=\"1\" class=\"dataframe\">\n",
       "  <thead>\n",
       "    <tr style=\"text-align: right;\">\n",
       "      <th></th>\n",
       "      <th>留言编号</th>\n",
       "      <th>留言用户</th>\n",
       "      <th>留言主题</th>\n",
       "      <th>留言时间</th>\n",
       "      <th>留言详情</th>\n",
       "      <th>答复意见</th>\n",
       "      <th>答复时间</th>\n",
       "      <th>相关性</th>\n",
       "      <th>答复意见主题</th>\n",
       "      <th>留言详情主题</th>\n",
       "      <th>可解释性</th>\n",
       "    </tr>\n",
       "  </thead>\n",
       "  <tbody>\n",
       "    <tr>\n",
       "      <th>0</th>\n",
       "      <td>2549</td>\n",
       "      <td>A00045581</td>\n",
       "      <td>A2区景蓉华苑物业管理有问题</td>\n",
       "      <td>2019/4/25 9:32</td>\n",
       "      <td>2019 年 位于 市 A2 区 桂花 坪 街道 A2 区 公安分局 宿舍区 景蓉华苑 乱象...</td>\n",
       "      <td>现将 网友 在 平台 《 问政 西地省 》 栏目 向 胡华衡 书记 留言 反映 A2 区景蓉...</td>\n",
       "      <td>2019/5/10 14:56</td>\n",
       "      <td>0.909506</td>\n",
       "      <td>10201927a2三分之二下午业主业主大会业委会书记了解代表价格会议住房依法依规信任停车关...</td>\n",
       "      <td>064202019423a2一再一吨一度不知业主业主大会业委会买水乱象人员以交位于何来何种保...</td>\n",
       "      <td>0.952922</td>\n",
       "    </tr>\n",
       "    <tr>\n",
       "      <th>1</th>\n",
       "      <td>2554</td>\n",
       "      <td>A00023583</td>\n",
       "      <td>A3区潇楚南路洋湖段怎么还没修好？</td>\n",
       "      <td>2019/4/24 16:03</td>\n",
       "      <td>潇楚 南路 2018 年 修 一年 路 挖 稀烂 围栏 围 动工 有时候 来台 挖机 挖 两...</td>\n",
       "      <td>网友 A00023583 您好 针对 您 反映 A3 区潇楚 南路 洋湖 段 怎么 还 没 ...</td>\n",
       "      <td>2019/5/9 9:49</td>\n",
       "      <td>0.916171</td>\n",
       "      <td>2019295075a00023583a3三趟今年保证修好关心力量加之区洋湖区潇楚南路原有反...</td>\n",
       "      <td>2018一个圈一年一段交通修好几下几天出行动工南路围栏外面对此带来店面影响很大挖机时间有时候...</td>\n",
       "      <td>0.908247</td>\n",
       "    </tr>\n",
       "    <tr>\n",
       "      <th>2</th>\n",
       "      <td>2555</td>\n",
       "      <td>A00031618</td>\n",
       "      <td>请加快提高A市民营幼儿园老师的待遇</td>\n",
       "      <td>2019/4/24 15:40</td>\n",
       "      <td>地处 省会市 民营 幼儿园 众多 小孩 祖国 未来 民营 幼儿园 教师 超负荷 工作 收入 ...</td>\n",
       "      <td>市民 同志 你好 您 反映 的 请 加快 提高 民营 幼儿园 教师 的 待遇 的 来信 已 ...</td>\n",
       "      <td>2019/5/9 9:49</td>\n",
       "      <td>0.919710</td>\n",
       "      <td>2019一是中共为了二是人事人民政府企业住房你好依法保险保障做出公办公积金关于关注养老保险出...</td>\n",
       "      <td>众多倡导养老加大加快医疗压力喘气国家地处增加学生小孩工作工资待遇市委市政府希望幼儿园提高收入...</td>\n",
       "      <td>0.903513</td>\n",
       "    </tr>\n",
       "    <tr>\n",
       "      <th>3</th>\n",
       "      <td>2557</td>\n",
       "      <td>A000110735</td>\n",
       "      <td>在A市买公寓能享受人才新政购房补贴吗？</td>\n",
       "      <td>2019/4/24 15:07</td>\n",
       "      <td>尊敬 书记 您好 研究生 毕业 人才 新政 落户 市想 买套 公寓 请问 购买 公寓 享受 ...</td>\n",
       "      <td>网友 A000110735 您好 您 在 平台 《 问政 西地省 》 上 的 留言 已 收悉...</td>\n",
       "      <td>2019/5/9 9:49</td>\n",
       "      <td>0.902263</td>\n",
       "      <td>00000000000020193035a000110735万元不可事业单位交由人才以上以下...</td>\n",
       "      <td>万元书记买套享受人才公寓尊敬市想您好新政毕业研究生落户补贴请问谢谢购买购房</td>\n",
       "      <td>0.840684</td>\n",
       "    </tr>\n",
       "    <tr>\n",
       "      <th>4</th>\n",
       "      <td>2574</td>\n",
       "      <td>A0009233</td>\n",
       "      <td>关于A市公交站点名称变更的建议</td>\n",
       "      <td>2019/4/23 17:03</td>\n",
       "      <td>建议 白竹坡 路口 更名 马坡岭 小学 原马坡 岭 小学 取消 保留 马坡岭</td>\n",
       "      <td>网友 A0009233 您好 您 的 留言 已 收悉 现将 具体内容 答复 如下 关于 来信...</td>\n",
       "      <td>2019/5/9 9:51</td>\n",
       "      <td>0.889347</td>\n",
       "      <td>2019a0009233三处不宜使用保留公交站公交站点公交线路公共交通关于关心具体内容出行原...</td>\n",
       "      <td>保留原马坡取消小学建议更名白竹坡路口马坡岭</td>\n",
       "      <td>0.929337</td>\n",
       "    </tr>\n",
       "  </tbody>\n",
       "</table>\n",
       "</div>"
      ],
      "text/plain": [
       "   留言编号        留言用户                 留言主题             留言时间  \\\n",
       "0  2549   A00045581       A2区景蓉华苑物业管理有问题   2019/4/25 9:32   \n",
       "1  2554   A00023583    A3区潇楚南路洋湖段怎么还没修好？  2019/4/24 16:03   \n",
       "2  2555   A00031618    请加快提高A市民营幼儿园老师的待遇  2019/4/24 15:40   \n",
       "3  2557  A000110735  在A市买公寓能享受人才新政购房补贴吗？  2019/4/24 15:07   \n",
       "4  2574    A0009233      关于A市公交站点名称变更的建议  2019/4/23 17:03   \n",
       "\n",
       "                                                留言详情  \\\n",
       "0  2019 年 位于 市 A2 区 桂花 坪 街道 A2 区 公安分局 宿舍区 景蓉华苑 乱象...   \n",
       "1  潇楚 南路 2018 年 修 一年 路 挖 稀烂 围栏 围 动工 有时候 来台 挖机 挖 两...   \n",
       "2  地处 省会市 民营 幼儿园 众多 小孩 祖国 未来 民营 幼儿园 教师 超负荷 工作 收入 ...   \n",
       "3  尊敬 书记 您好 研究生 毕业 人才 新政 落户 市想 买套 公寓 请问 购买 公寓 享受 ...   \n",
       "4             建议 白竹坡 路口 更名 马坡岭 小学 原马坡 岭 小学 取消 保留 马坡岭   \n",
       "\n",
       "                                                答复意见             答复时间  \\\n",
       "0  现将 网友 在 平台 《 问政 西地省 》 栏目 向 胡华衡 书记 留言 反映 A2 区景蓉...  2019/5/10 14:56   \n",
       "1  网友 A00023583 您好 针对 您 反映 A3 区潇楚 南路 洋湖 段 怎么 还 没 ...    2019/5/9 9:49   \n",
       "2  市民 同志 你好 您 反映 的 请 加快 提高 民营 幼儿园 教师 的 待遇 的 来信 已 ...    2019/5/9 9:49   \n",
       "3  网友 A000110735 您好 您 在 平台 《 问政 西地省 》 上 的 留言 已 收悉...    2019/5/9 9:49   \n",
       "4  网友 A0009233 您好 您 的 留言 已 收悉 现将 具体内容 答复 如下 关于 来信...    2019/5/9 9:51   \n",
       "\n",
       "        相关性                                             答复意见主题  \\\n",
       "0  0.909506  10201927a2三分之二下午业主业主大会业委会书记了解代表价格会议住房依法依规信任停车关...   \n",
       "1  0.916171  2019295075a00023583a3三趟今年保证修好关心力量加之区洋湖区潇楚南路原有反...   \n",
       "2  0.919710  2019一是中共为了二是人事人民政府企业住房你好依法保险保障做出公办公积金关于关注养老保险出...   \n",
       "3  0.902263  00000000000020193035a000110735万元不可事业单位交由人才以上以下...   \n",
       "4  0.889347  2019a0009233三处不宜使用保留公交站公交站点公交线路公共交通关于关心具体内容出行原...   \n",
       "\n",
       "                                              留言详情主题      可解释性  \n",
       "0  064202019423a2一再一吨一度不知业主业主大会业委会买水乱象人员以交位于何来何种保...  0.952922  \n",
       "1  2018一个圈一年一段交通修好几下几天出行动工南路围栏外面对此带来店面影响很大挖机时间有时候...  0.908247  \n",
       "2  众多倡导养老加大加快医疗压力喘气国家地处增加学生小孩工作工资待遇市委市政府希望幼儿园提高收入...  0.903513  \n",
       "3              万元书记买套享受人才公寓尊敬市想您好新政毕业研究生落户补贴请问谢谢购买购房  0.840684  \n",
       "4                              保留原马坡取消小学建议更名白竹坡路口马坡岭  0.929337  "
      ]
     },
     "execution_count": 2,
     "metadata": {},
     "output_type": "execute_result"
    }
   ],
   "source": [
    "df=pd.read_csv(\"泰迪第三题含有相似度.csv\",engine='python')\n",
    "df.head()"
   ]
  },
  {
   "cell_type": "markdown",
   "metadata": {},
   "source": [
    "## 完整性评价\n",
    "   * 对句子成分分析 主谓宾定状补+介宾"
   ]
  },
  {
   "cell_type": "code",
   "execution_count": 3,
   "metadata": {},
   "outputs": [
    {
     "name": "stdout",
     "output_type": "stream",
     "text": [
      "100.00%"
     ]
    }
   ],
   "source": [
    "ltp=LtpParser()\n",
    "scores=[]\n",
    "\n",
    "for reply in range(len(df.答复意见)):\n",
    "    words,arcs=ltp.analysis(df.答复意见[reply])\n",
    "    dicts={}\n",
    "    for i in arcs:\n",
    "        dicts[i.relation]=1\n",
    "    part1=['SBV','ATT','ADV','CMP','POB','HED']#除宾语外的部分\n",
    "    part2=['VOB','IOB','FOB']#宾语\n",
    "    score=0\n",
    "    step=1/7#一共七种主要成分,每种成分所占分值\n",
    "    #获取每个词的成分\n",
    "    keys=dicts.keys()\n",
    "    for j in keys:\n",
    "        if j in part1:\n",
    "            score+=step\n",
    "        elif j in part2:\n",
    "            score+=step\n",
    "    scores.append(score)\n",
    "    print(\"\\r{:.2f}%\".format((reply+1)/len(df)*100),end=\"\")"
   ]
  },
  {
   "cell_type": "markdown",
   "metadata": {},
   "source": [
    "## 计算答复意见评分"
   ]
  },
  {
   "cell_type": "code",
   "execution_count": 24,
   "metadata": {},
   "outputs": [
    {
     "data": {
      "text/plain": [
       "<matplotlib.axes._subplots.AxesSubplot at 0x18cb43b57f0>"
      ]
     },
     "execution_count": 24,
     "metadata": {},
     "output_type": "execute_result"
    },
    {
     "data": {
      "image/png": "[encoded data removed]",
      "text/plain": [
       "<Figure size 432x288 with 1 Axes>"
      ]
     },
     "metadata": {},
     "output_type": "display_data"
    }
   ],
   "source": [
    "df['完整性']=scores\n",
    "df['答复意见评分']=df['相关性']*0.4+df['可解释性']*0.4+df['完整性']*0.2\n",
    "res=df[['相关性','可解释性','完整性','答复意见评分']]\n",
    "res.to_csv(\"第三题_结果数据.csv\")"
   ]
  }
 ],
 "metadata": {
  "kernelspec": {
   "display_name": "Python 3",
   "language": "python",
   "name": "python3"
  },
  "language_info": {
   "codemirror_mode": {
    "name": "ipython",
    "version": 3
   },
   "file_extension": ".py",
   "mimetype": "text/x-python",
   "name": "python",
   "nbconvert_exporter": "python",
   "pygments_lexer": "ipython3",
   "version": "3.6.5"
  }
 },
 "nbformat": 4,
 "nbformat_minor": 2
}
