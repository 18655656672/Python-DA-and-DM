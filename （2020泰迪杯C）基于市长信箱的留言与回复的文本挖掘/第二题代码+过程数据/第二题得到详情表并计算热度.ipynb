{
 "cells": [
  {
   "cell_type": "code",
   "execution_count": 1,
   "metadata": {},
   "outputs": [],
   "source": [
    "import pandas as pd\n",
    "import re\n",
    "import jieba"
   ]
  },
  {
   "cell_type": "code",
   "execution_count": 2,
   "metadata": {},
   "outputs": [
    {
     "data": {
      "text/html": [
       "<div>\n",
       "<style scoped>\n",
       "    .dataframe tbody tr th:only-of-type {\n",
       "        vertical-align: middle;\n",
       "    }\n",
       "\n",
       "    .dataframe tbody tr th {\n",
       "        vertical-align: top;\n",
       "    }\n",
       "\n",
       "    .dataframe thead th {\n",
       "        text-align: right;\n",
       "    }\n",
       "</style>\n",
       "<table border=\"1\" class=\"dataframe\">\n",
       "  <thead>\n",
       "    <tr style=\"text-align: right;\">\n",
       "      <th></th>\n",
       "      <th>留言编号</th>\n",
       "      <th>留言用户</th>\n",
       "      <th>留言主题</th>\n",
       "      <th>留言时间</th>\n",
       "      <th>留言详情</th>\n",
       "      <th>反对数</th>\n",
       "      <th>点赞数</th>\n",
       "    </tr>\n",
       "  </thead>\n",
       "  <tbody>\n",
       "    <tr>\n",
       "      <th>0</th>\n",
       "      <td>188006</td>\n",
       "      <td>A000102948</td>\n",
       "      <td>A3区一米阳光婚纱艺术摄影是否合法纳税了？</td>\n",
       "      <td>2019/2/28 11:25:05</td>\n",
       "      <td>\\n\\t\\t\\t\\t\\t\\n\\t\\t\\t\\t\\t座落在A市A3区联丰路米兰春天G2栋320，...</td>\n",
       "      <td>0</td>\n",
       "      <td>0</td>\n",
       "    </tr>\n",
       "    <tr>\n",
       "      <th>1</th>\n",
       "      <td>188007</td>\n",
       "      <td>A00074795</td>\n",
       "      <td>咨询A6区道路命名规划初步成果公示和城乡门牌问题</td>\n",
       "      <td>2019/2/14 20:00:00</td>\n",
       "      <td>\\n\\t\\t\\t\\t\\t\\n\\t\\t\\t\\t\\tA市A6区道路命名规划已经初步成果公示文件，...</td>\n",
       "      <td>0</td>\n",
       "      <td>1</td>\n",
       "    </tr>\n",
       "    <tr>\n",
       "      <th>2</th>\n",
       "      <td>188031</td>\n",
       "      <td>A00040066</td>\n",
       "      <td>反映A7县春华镇金鼎村水泥路、自来水到户的问题</td>\n",
       "      <td>2019/7/19 18:19:54</td>\n",
       "      <td>\\n\\t\\t\\t\\t\\t\\n\\t\\t\\t\\t\\t本人系春华镇金鼎村七里组村民，不知是否有相关...</td>\n",
       "      <td>0</td>\n",
       "      <td>1</td>\n",
       "    </tr>\n",
       "    <tr>\n",
       "      <th>3</th>\n",
       "      <td>188039</td>\n",
       "      <td>A00081379</td>\n",
       "      <td>A2区黄兴路步行街大古道巷住户卫生间粪便外排</td>\n",
       "      <td>2019/8/19 11:48:23</td>\n",
       "      <td>\\n\\t\\t\\t\\t\\t\\n\\t\\t\\t\\t\\t靠近黄兴路步行街，城南路街道、大古道巷、一步...</td>\n",
       "      <td>0</td>\n",
       "      <td>1</td>\n",
       "    </tr>\n",
       "    <tr>\n",
       "      <th>4</th>\n",
       "      <td>188059</td>\n",
       "      <td>A00028571</td>\n",
       "      <td>A市A3区中海国际社区三期与四期中间空地夜间施工噪音扰民</td>\n",
       "      <td>2019/11/22 16:54:42</td>\n",
       "      <td>\\n\\t\\t\\t\\t\\t\\n\\t\\t\\t\\t\\tA市A3区中海国际社区三期四期中间，即蓝天璞...</td>\n",
       "      <td>0</td>\n",
       "      <td>0</td>\n",
       "    </tr>\n",
       "  </tbody>\n",
       "</table>\n",
       "</div>"
      ],
      "text/plain": [
       "     留言编号        留言用户                          留言主题                 留言时间  \\\n",
       "0  188006  A000102948         A3区一米阳光婚纱艺术摄影是否合法纳税了？   2019/2/28 11:25:05   \n",
       "1  188007   A00074795      咨询A6区道路命名规划初步成果公示和城乡门牌问题   2019/2/14 20:00:00   \n",
       "2  188031   A00040066       反映A7县春华镇金鼎村水泥路、自来水到户的问题   2019/7/19 18:19:54   \n",
       "3  188039   A00081379        A2区黄兴路步行街大古道巷住户卫生间粪便外排   2019/8/19 11:48:23   \n",
       "4  188059   A00028571  A市A3区中海国际社区三期与四期中间空地夜间施工噪音扰民  2019/11/22 16:54:42   \n",
       "\n",
       "                                                留言详情  反对数  点赞数  \n",
       "0  \\n\\t\\t\\t\\t\\t\\n\\t\\t\\t\\t\\t座落在A市A3区联丰路米兰春天G2栋320，...    0    0  \n",
       "1  \\n\\t\\t\\t\\t\\t\\n\\t\\t\\t\\t\\tA市A6区道路命名规划已经初步成果公示文件，...    0    1  \n",
       "2  \\n\\t\\t\\t\\t\\t\\n\\t\\t\\t\\t\\t本人系春华镇金鼎村七里组村民，不知是否有相关...    0    1  \n",
       "3  \\n\\t\\t\\t\\t\\t\\n\\t\\t\\t\\t\\t靠近黄兴路步行街，城南路街道、大古道巷、一步...    0    1  \n",
       "4  \\n\\t\\t\\t\\t\\t\\n\\t\\t\\t\\t\\tA市A3区中海国际社区三期四期中间，即蓝天璞...    0    0  "
      ]
     },
     "execution_count": 2,
     "metadata": {},
     "output_type": "execute_result"
    }
   ],
   "source": [
    "data=pd.read_excel('./C题全部数据/附件3.xlsx')\n",
    "data.head()"
   ]
  },
  {
   "cell_type": "code",
   "execution_count": 54,
   "metadata": {},
   "outputs": [
    {
     "data": {
      "text/html": [
       "<div>\n",
       "<style scoped>\n",
       "    .dataframe tbody tr th:only-of-type {\n",
       "        vertical-align: middle;\n",
       "    }\n",
       "\n",
       "    .dataframe tbody tr th {\n",
       "        vertical-align: top;\n",
       "    }\n",
       "\n",
       "    .dataframe thead th {\n",
       "        text-align: right;\n",
       "    }\n",
       "</style>\n",
       "<table border=\"1\" class=\"dataframe\">\n",
       "  <thead>\n",
       "    <tr style=\"text-align: right;\">\n",
       "      <th></th>\n",
       "      <th>留言编号</th>\n",
       "      <th>留言用户</th>\n",
       "      <th>留言主题</th>\n",
       "      <th>留言时间</th>\n",
       "      <th>留言详情</th>\n",
       "      <th>反对数</th>\n",
       "      <th>点赞数</th>\n",
       "    </tr>\n",
       "  </thead>\n",
       "  <tbody>\n",
       "    <tr>\n",
       "      <th>965</th>\n",
       "      <td>211395</td>\n",
       "      <td>A00050903</td>\n",
       "      <td>西地省财政经济学院校园宽带被垄断</td>\n",
       "      <td>2019/9/14 17:57:34</td>\n",
       "      <td>\\n\\t\\t\\t\\t\\t\\n\\t\\t\\t\\t\\t财政经济学院宽带被电信垄断，引发大量学生不满...</td>\n",
       "      <td>0</td>\n",
       "      <td>0</td>\n",
       "    </tr>\n",
       "    <tr>\n",
       "      <th>1911</th>\n",
       "      <td>233759</td>\n",
       "      <td>A909118</td>\n",
       "      <td>A市涉外经济学院强制学生实习</td>\n",
       "      <td>2019/04/28 17:32:51</td>\n",
       "      <td>\\n\\t\\t\\t\\t\\t\\n\\t\\t\\t\\t\\t各位领导干部大家好，我是A市涉外经济学院的一...</td>\n",
       "      <td>0</td>\n",
       "      <td>0</td>\n",
       "    </tr>\n",
       "    <tr>\n",
       "      <th>1986</th>\n",
       "      <td>235521</td>\n",
       "      <td>A0006920</td>\n",
       "      <td>A3区枫林三路涉外经济学院外街理发店扰民</td>\n",
       "      <td>2019/10/15 18:59:08</td>\n",
       "      <td>\\n\\t\\t\\t\\t\\t\\n\\t\\t\\t\\t\\tA市A3区，枫林三路，西地省涉外经济学院外街...</td>\n",
       "      <td>0</td>\n",
       "      <td>0</td>\n",
       "    </tr>\n",
       "    <tr>\n",
       "      <th>2203</th>\n",
       "      <td>240721</td>\n",
       "      <td>A00050903</td>\n",
       "      <td>西地省财政经济学院涉嫌宽带垄断</td>\n",
       "      <td>2019/9/14 17:56:17</td>\n",
       "      <td>\\n\\t\\t\\t\\t\\t\\n\\t\\t\\t\\t\\t财政经济学院宽带被电信垄断，引发大量学生不满...</td>\n",
       "      <td>0</td>\n",
       "      <td>0</td>\n",
       "    </tr>\n",
       "    <tr>\n",
       "      <th>2262</th>\n",
       "      <td>242062</td>\n",
       "      <td>A00028889</td>\n",
       "      <td>西地省涉外经济学院变相强制学生“社会实践”</td>\n",
       "      <td>2019/11/27 23:14:33</td>\n",
       "      <td>\\n\\t\\t\\t\\t\\t\\n\\t\\t\\t\\t\\t请制止和修改西地省涉外经济学院变相强制学生进...</td>\n",
       "      <td>0</td>\n",
       "      <td>0</td>\n",
       "    </tr>\n",
       "    <tr>\n",
       "      <th>3208</th>\n",
       "      <td>264084</td>\n",
       "      <td>A00074365</td>\n",
       "      <td>西地省财政经济学院以报名名额已满拒绝让学生报名cet-4</td>\n",
       "      <td>2019/3/19 23:11:44</td>\n",
       "      <td>\\n\\t\\t\\t\\t\\t\\n\\t\\t\\t\\t\\t本人是西地省财政经济学院的一名在读全日制本科...</td>\n",
       "      <td>0</td>\n",
       "      <td>0</td>\n",
       "    </tr>\n",
       "    <tr>\n",
       "      <th>3311</th>\n",
       "      <td>266368</td>\n",
       "      <td>A00038920</td>\n",
       "      <td>A市涉外经济学院寒假过年期间组织学生去工厂工作</td>\n",
       "      <td>2019/11/22 14:42:14</td>\n",
       "      <td>\\n\\t\\t\\t\\t\\t\\n\\t\\t\\t\\t\\t关于西地省A市涉外经济学院寒假过年期间组织学...</td>\n",
       "      <td>0</td>\n",
       "      <td>0</td>\n",
       "    </tr>\n",
       "    <tr>\n",
       "      <th>4320</th>\n",
       "      <td>360110</td>\n",
       "      <td>A110021</td>\n",
       "      <td>A市经济学院寒假过年期间组织学生去工厂工作</td>\n",
       "      <td>2019-11-22 14:42:14</td>\n",
       "      <td>\\n\\t\\t\\t\\t\\t\\t\\t\\t\\t关于西地省A市经济学院寒假过年期间组织学生去工厂工作...</td>\n",
       "      <td>0</td>\n",
       "      <td>0</td>\n",
       "    </tr>\n",
       "    <tr>\n",
       "      <th>4322</th>\n",
       "      <td>360112</td>\n",
       "      <td>A220235</td>\n",
       "      <td>A市经济学院强制学生实习</td>\n",
       "      <td>2019-04-28 17:32:51</td>\n",
       "      <td>\\n\\t\\t\\t\\t\\t\\t\\t\\t\\t\\t各位领导干部大家好，我是A市经济学院的一名学生，...</td>\n",
       "      <td>0</td>\n",
       "      <td>0</td>\n",
       "    </tr>\n",
       "    <tr>\n",
       "      <th>4323</th>\n",
       "      <td>360113</td>\n",
       "      <td>A3352352</td>\n",
       "      <td>A市经济学院强制学生外出实习</td>\n",
       "      <td>2018-05-17 08:32:04</td>\n",
       "      <td>\\n\\t\\t\\t\\t\\t\\t\\t\\tA市经济学院强制16届电子商务跟企业物流专业实习。其中我...</td>\n",
       "      <td>3</td>\n",
       "      <td>0</td>\n",
       "    </tr>\n",
       "    <tr>\n",
       "      <th>4324</th>\n",
       "      <td>360114</td>\n",
       "      <td>A0182491</td>\n",
       "      <td>A市经济学院体育学院变相强制实习</td>\n",
       "      <td>2017-06-08 17:31:20</td>\n",
       "      <td>\\n\\t\\t\\t\\t\\t\\n\\t\\t\\t\\t\\t　　书记您好，我是来自西地省经济学院体育学院...</td>\n",
       "      <td>9</td>\n",
       "      <td>0</td>\n",
       "    </tr>\n",
       "  </tbody>\n",
       "</table>\n",
       "</div>"
      ],
      "text/plain": [
       "        留言编号       留言用户                          留言主题                 留言时间  \\\n",
       "965   211395  A00050903              西地省财政经济学院校园宽带被垄断   2019/9/14 17:57:34   \n",
       "1911  233759    A909118                A市涉外经济学院强制学生实习  2019/04/28 17:32:51   \n",
       "1986  235521   A0006920          A3区枫林三路涉外经济学院外街理发店扰民  2019/10/15 18:59:08   \n",
       "2203  240721  A00050903               西地省财政经济学院涉嫌宽带垄断   2019/9/14 17:56:17   \n",
       "2262  242062  A00028889         西地省涉外经济学院变相强制学生“社会实践”  2019/11/27 23:14:33   \n",
       "3208  264084  A00074365  西地省财政经济学院以报名名额已满拒绝让学生报名cet-4   2019/3/19 23:11:44   \n",
       "3311  266368  A00038920       A市涉外经济学院寒假过年期间组织学生去工厂工作  2019/11/22 14:42:14   \n",
       "4320  360110    A110021         A市经济学院寒假过年期间组织学生去工厂工作  2019-11-22 14:42:14   \n",
       "4322  360112    A220235                  A市经济学院强制学生实习  2019-04-28 17:32:51   \n",
       "4323  360113   A3352352                A市经济学院强制学生外出实习  2018-05-17 08:32:04   \n",
       "4324  360114   A0182491              A市经济学院体育学院变相强制实习  2017-06-08 17:31:20   \n",
       "\n",
       "                                                   留言详情  反对数  点赞数  \n",
       "965   \\n\\t\\t\\t\\t\\t\\n\\t\\t\\t\\t\\t财政经济学院宽带被电信垄断，引发大量学生不满...    0    0  \n",
       "1911  \\n\\t\\t\\t\\t\\t\\n\\t\\t\\t\\t\\t各位领导干部大家好，我是A市涉外经济学院的一...    0    0  \n",
       "1986  \\n\\t\\t\\t\\t\\t\\n\\t\\t\\t\\t\\tA市A3区，枫林三路，西地省涉外经济学院外街...    0    0  \n",
       "2203  \\n\\t\\t\\t\\t\\t\\n\\t\\t\\t\\t\\t财政经济学院宽带被电信垄断，引发大量学生不满...    0    0  \n",
       "2262  \\n\\t\\t\\t\\t\\t\\n\\t\\t\\t\\t\\t请制止和修改西地省涉外经济学院变相强制学生进...    0    0  \n",
       "3208  \\n\\t\\t\\t\\t\\t\\n\\t\\t\\t\\t\\t本人是西地省财政经济学院的一名在读全日制本科...    0    0  \n",
       "3311  \\n\\t\\t\\t\\t\\t\\n\\t\\t\\t\\t\\t关于西地省A市涉外经济学院寒假过年期间组织学...    0    0  \n",
       "4320  \\n\\t\\t\\t\\t\\t\\t\\t\\t\\t关于西地省A市经济学院寒假过年期间组织学生去工厂工作...    0    0  \n",
       "4322  \\n\\t\\t\\t\\t\\t\\t\\t\\t\\t\\t各位领导干部大家好，我是A市经济学院的一名学生，...    0    0  \n",
       "4323  \\n\\t\\t\\t\\t\\t\\t\\t\\tA市经济学院强制16届电子商务跟企业物流专业实习。其中我...    3    0  \n",
       "4324  \\n\\t\\t\\t\\t\\t\\n\\t\\t\\t\\t\\t　　书记您好，我是来自西地省经济学院体育学院...    9    0  "
      ]
     },
     "execution_count": 54,
     "metadata": {},
     "output_type": "execute_result"
    }
   ],
   "source": [
    "search=[]\n",
    "\n",
    "found =data['留言详情'].str.contains('经济学院')\n",
    "found2=data['留言主题'].str.contains('经济学院')\n",
    "found\n",
    "data1=data[found]\n",
    "data2=data[found2]\n",
    "data1.append(data2)\n",
    "data1"
   ]
  },
  {
   "cell_type": "code",
   "execution_count": 55,
   "metadata": {},
   "outputs": [
    {
     "name": "stdout",
     "output_type": "stream",
     "text": [
      "<class 'pandas.core.frame.DataFrame'>\n",
      "Int64Index: 11 entries, 965 to 4324\n",
      "Data columns (total 7 columns):\n",
      "留言编号    11 non-null int64\n",
      "留言用户    11 non-null object\n",
      "留言主题    11 non-null object\n",
      "留言时间    11 non-null object\n",
      "留言详情    11 non-null object\n",
      "反对数     11 non-null int64\n",
      "点赞数     11 non-null int64\n",
      "dtypes: int64(3), object(4)\n",
      "memory usage: 704.0+ bytes\n"
     ]
    }
   ],
   "source": [
    "data1.info()"
   ]
  },
  {
   "cell_type": "code",
   "execution_count": 56,
   "metadata": {},
   "outputs": [
    {
     "data": {
      "text/plain": [
       "0"
      ]
     },
     "execution_count": 56,
     "metadata": {},
     "output_type": "execute_result"
    }
   ],
   "source": [
    "data1['点赞数'].sum()"
   ]
  },
  {
   "cell_type": "code",
   "execution_count": 57,
   "metadata": {},
   "outputs": [
    {
     "data": {
      "text/plain": [
       "12"
      ]
     },
     "execution_count": 57,
     "metadata": {},
     "output_type": "execute_result"
    }
   ],
   "source": [
    "data1['反对数'].sum()"
   ]
  },
  {
   "cell_type": "code",
   "execution_count": 39,
   "metadata": {},
   "outputs": [
    {
     "data": {
      "text/plain": [
       "257"
      ]
     },
     "execution_count": 39,
     "metadata": {},
     "output_type": "execute_result"
    }
   ],
   "source": []
  },
  {
   "cell_type": "code",
   "execution_count": 59,
   "metadata": {},
   "outputs": [],
   "source": [
    "data1.to_excel('./经济学院.xls')"
   ]
  },
  {
   "cell_type": "code",
   "execution_count": null,
   "metadata": {},
   "outputs": [],
   "source": []
  }
 ],
 "metadata": {
  "kernelspec": {
   "display_name": "Python 3",
   "language": "python",
   "name": "python3"
  },
  "language_info": {
   "codemirror_mode": {
    "name": "ipython",
    "version": 3
   },
   "file_extension": ".py",
   "mimetype": "text/x-python",
   "name": "python",
   "nbconvert_exporter": "python",
   "pygments_lexer": "ipython3",
   "version": "3.7.3"
  },
  "latex_envs": {
   "LaTeX_envs_menu_present": true,
   "autoclose": false,
   "autocomplete": true,
   "bibliofile": "biblio.bib",
   "cite_by": "apalike",
   "current_citInitial": 1,
   "eqLabelWithNumbers": true,
   "eqNumInitial": 1,
   "hotkeys": {
    "equation": "Ctrl-E",
    "itemize": "Ctrl-I"
   },
   "labels_anchors": false,
   "latex_user_defs": false,
   "report_style_numbering": false,
   "user_envs_cfg": false
  }
 },
 "nbformat": 4,
 "nbformat_minor": 4
}
