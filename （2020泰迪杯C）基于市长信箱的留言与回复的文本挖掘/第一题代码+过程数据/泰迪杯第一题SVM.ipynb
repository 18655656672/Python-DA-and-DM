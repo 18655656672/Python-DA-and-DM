{
 "cells": [
  {
   "cell_type": "code",
   "execution_count": 4,
   "metadata": {},
   "outputs": [],
   "source": [
    "%matplotlib inline\n",
    "from ast import literal_eval\n",
    "import pandas as pd\n",
    "import numpy as np\n",
    "import matplotlib\n",
    "import matplotlib.pyplot as plt\n",
    "import seaborn as sns\n",
    "from scipy import sparse as sp_sparse\n",
    "from sklearn.feature_extraction.text import TfidfVectorizer\n",
    "from sklearn.preprocessing import MultiLabelBinarizer\n",
    "from sklearn.naive_bayes import MultinomialNB\n",
    "from sklearn.multiclass import OneVsRestClassifier\n",
    "from sklearn.linear_model import LogisticRegression, RidgeClassifier\n",
    "from sklearn.svm import LinearSVC\n",
    "from sklearn.feature_extraction.text import CountVectorizer\n",
    "from sklearn.feature_extraction.text import TfidfTransformer\n",
    "from sklearn.naive_bayes import MultinomialNB\n",
    "from sklearn.pipeline import Pipeline\n",
    "from sklearn.feature_extraction.text import CountVectorizer\n",
    "from sklearn.naive_bayes import GaussianNB\n",
    "from sklearn.linear_model import LogisticRegression\n",
    "from sklearn.ensemble import RandomForestClassifier\n",
    "from sklearn.naive_bayes import MultinomialNB\n",
    "from sklearn.model_selection import train_test_split\n",
    "from sklearn.metrics import accuracy_score, confusion_matrix,f1_score,classification_report\n",
    "import re\n",
    "import jieba as jb\n",
    "import warnings\n",
    "warnings.filterwarnings('ignore')\n",
    "plt.rcParams['font.sans-serif']=\"SimHei\"\n",
    "plt.rcParams['axes.unicode_minus']=False\n",
    "plt.style.use('ggplot')"
   ]
  },
  {
   "cell_type": "code",
   "execution_count": 5,
   "metadata": {},
   "outputs": [],
   "source": [
    "data1=pd.read_excel(\"C题全部数据/附件1.xlsx\")\n",
    "data2=pd.read_excel(\"C题全部数据/附件2.xlsx\")\n",
    "data3=pd.read_excel(\"C题全部数据/附件3.xlsx\")\n",
    "data4=pd.read_excel(\"C题全部数据/附件4.xlsx\")"
   ]
  },
  {
   "cell_type": "code",
   "execution_count": 6,
   "metadata": {},
   "outputs": [
    {
     "data": {
      "text/html": [
       "<div>\n",
       "<style scoped>\n",
       "    .dataframe tbody tr th:only-of-type {\n",
       "        vertical-align: middle;\n",
       "    }\n",
       "\n",
       "    .dataframe tbody tr th {\n",
       "        vertical-align: top;\n",
       "    }\n",
       "\n",
       "    .dataframe thead th {\n",
       "        text-align: right;\n",
       "    }\n",
       "</style>\n",
       "<table border=\"1\" class=\"dataframe\">\n",
       "  <thead>\n",
       "    <tr style=\"text-align: right;\">\n",
       "      <th></th>\n",
       "      <th>cat</th>\n",
       "      <th>review</th>\n",
       "      <th>cat_id</th>\n",
       "    </tr>\n",
       "  </thead>\n",
       "  <tbody>\n",
       "    <tr>\n",
       "      <th>1691</th>\n",
       "      <td>城乡建设</td>\n",
       "      <td>\\n\\t\\t\\t\\t\\t\\n\\t\\t\\t\\t\\t　　蒋厅长，您好！ 　　我于2006年在D市...</td>\n",
       "      <td>0</td>\n",
       "    </tr>\n",
       "    <tr>\n",
       "      <th>417</th>\n",
       "      <td>城乡建设</td>\n",
       "      <td>\\n\\t\\t\\t\\t\\t\\n\\t\\t\\t\\t\\t经世龙城小区配套幼儿园办成公办园或委托办成普...</td>\n",
       "      <td>0</td>\n",
       "    </tr>\n",
       "    <tr>\n",
       "      <th>7725</th>\n",
       "      <td>商贸旅游</td>\n",
       "      <td>\\n\\t\\t\\t\\t\\t\\n\\t\\t\\t\\t\\t为什么我们L3县七座车年检费用要460，怎么...</td>\n",
       "      <td>5</td>\n",
       "    </tr>\n",
       "    <tr>\n",
       "      <th>1921</th>\n",
       "      <td>城乡建设</td>\n",
       "      <td>\\n\\t\\t\\t\\t\\t\\n\\t\\t\\t\\t\\t　　我们是原I市公汽公司小区（I1区五一路）...</td>\n",
       "      <td>0</td>\n",
       "    </tr>\n",
       "    <tr>\n",
       "      <th>4140</th>\n",
       "      <td>教育文体</td>\n",
       "      <td>\\n     \\n     尊敬的厅长：　　我村为B7县八团乡东黄村，是革命老区。B7县第四...</td>\n",
       "      <td>3</td>\n",
       "    </tr>\n",
       "    <tr>\n",
       "      <th>174</th>\n",
       "      <td>城乡建设</td>\n",
       "      <td>\\n\\t\\t\\t\\t\\t\\n\\t\\t\\t\\t\\t尊敬的书记：　　你好，我是一名星沙灰埠社区板...</td>\n",
       "      <td>0</td>\n",
       "    </tr>\n",
       "    <tr>\n",
       "      <th>7500</th>\n",
       "      <td>商贸旅游</td>\n",
       "      <td>\\n\\t\\t\\t\\t\\t\\n\\t\\t\\t\\t\\t　　西地省J市J8县热水镇为4A级旅游区，可...</td>\n",
       "      <td>5</td>\n",
       "    </tr>\n",
       "    <tr>\n",
       "      <th>3056</th>\n",
       "      <td>交通运输</td>\n",
       "      <td>\\n\\t\\t\\t\\t\\t\\n\\t\\t\\t\\t\\t无网约车驾驶证，无网约车资格证，希望相关部门...</td>\n",
       "      <td>2</td>\n",
       "    </tr>\n",
       "    <tr>\n",
       "      <th>3941</th>\n",
       "      <td>教育文体</td>\n",
       "      <td>\\n\\n　　您好！请问您：评小学高级教师十几年了，职称、定岗都一直在小学，学校是中小学都有的...</td>\n",
       "      <td>3</td>\n",
       "    </tr>\n",
       "    <tr>\n",
       "      <th>2891</th>\n",
       "      <td>环境保护</td>\n",
       "      <td>\\n\\t\\t\\t\\t\\t\\n\\t\\t\\t\\t\\t蛇山该养猪场地处I2区泥江口镇蛇山村正新公村...</td>\n",
       "      <td>1</td>\n",
       "    </tr>\n",
       "  </tbody>\n",
       "</table>\n",
       "</div>"
      ],
      "text/plain": [
       "       cat                                             review  cat_id\n",
       "1691  城乡建设  \\n\\t\\t\\t\\t\\t\\n\\t\\t\\t\\t\\t　　蒋厅长，您好！ 　　我于2006年在D市...       0\n",
       "417   城乡建设  \\n\\t\\t\\t\\t\\t\\n\\t\\t\\t\\t\\t经世龙城小区配套幼儿园办成公办园或委托办成普...       0\n",
       "7725  商贸旅游  \\n\\t\\t\\t\\t\\t\\n\\t\\t\\t\\t\\t为什么我们L3县七座车年检费用要460，怎么...       5\n",
       "1921  城乡建设  \\n\\t\\t\\t\\t\\t\\n\\t\\t\\t\\t\\t　　我们是原I市公汽公司小区（I1区五一路）...       0\n",
       "4140  教育文体  \\n     \\n     尊敬的厅长：　　我村为B7县八团乡东黄村，是革命老区。B7县第四...       3\n",
       "174   城乡建设  \\n\\t\\t\\t\\t\\t\\n\\t\\t\\t\\t\\t尊敬的书记：　　你好，我是一名星沙灰埠社区板...       0\n",
       "7500  商贸旅游  \\n\\t\\t\\t\\t\\t\\n\\t\\t\\t\\t\\t　　西地省J市J8县热水镇为4A级旅游区，可...       5\n",
       "3056  交通运输  \\n\\t\\t\\t\\t\\t\\n\\t\\t\\t\\t\\t无网约车驾驶证，无网约车资格证，希望相关部门...       2\n",
       "3941  教育文体  \\n\\n　　您好！请问您：评小学高级教师十几年了，职称、定岗都一直在小学，学校是中小学都有的...       3\n",
       "2891  环境保护  \\n\\t\\t\\t\\t\\t\\n\\t\\t\\t\\t\\t蛇山该养猪场地处I2区泥江口镇蛇山村正新公村...       1"
      ]
     },
     "execution_count": 6,
     "metadata": {},
     "output_type": "execute_result"
    }
   ],
   "source": [
    "test=data2[[\"一级标签\",\"留言详情\"]]\n",
    "#重命名列名\n",
    "test.columns=[\"cat\",\"review\"]\n",
    "\n",
    "test['cat_id'] = test['cat'].factorize()[0]\n",
    "cat_id_df = test[['cat', 'cat_id']].drop_duplicates().sort_values('cat_id').reset_index(drop=True)\n",
    "cat_to_id = dict(cat_id_df.values)\n",
    "id_to_cat = dict(cat_id_df[['cat_id', 'cat']].values)\n",
    "test.sample(10)"
   ]
  },
  {
   "cell_type": "code",
   "execution_count": 7,
   "metadata": {},
   "outputs": [
    {
     "name": "stderr",
     "output_type": "stream",
     "text": [
      "Building prefix dict from the default dictionary ...\n",
      "Loading model from cache C:\\Users\\ysj\\AppData\\Local\\Temp\\jieba.cache\n",
      "Loading model cost 0.944 seconds.\n",
      "Prefix dict has been built succesfully.\n"
     ]
    },
    {
     "data": {
      "text/html": [
       "<div>\n",
       "<style scoped>\n",
       "    .dataframe tbody tr th:only-of-type {\n",
       "        vertical-align: middle;\n",
       "    }\n",
       "\n",
       "    .dataframe tbody tr th {\n",
       "        vertical-align: top;\n",
       "    }\n",
       "\n",
       "    .dataframe thead th {\n",
       "        text-align: right;\n",
       "    }\n",
       "</style>\n",
       "<table border=\"1\" class=\"dataframe\">\n",
       "  <thead>\n",
       "    <tr style=\"text-align: right;\">\n",
       "      <th></th>\n",
       "      <th>cat</th>\n",
       "      <th>review</th>\n",
       "      <th>cat_id</th>\n",
       "      <th>clean_review</th>\n",
       "      <th>cut_review</th>\n",
       "    </tr>\n",
       "  </thead>\n",
       "  <tbody>\n",
       "    <tr>\n",
       "      <th>0</th>\n",
       "      <td>城乡建设</td>\n",
       "      <td>\\n\\t\\t\\t\\t\\t\\n\\t\\t\\t\\t\\tA3区大道西行便道，未管所路口至加油站路段，...</td>\n",
       "      <td>0</td>\n",
       "      <td>A3区大道西行便道未管所路口至加油站路段人行道包括路灯杆被圈西湖建筑集团燕子山安置房项目施工...</td>\n",
       "      <td>A3 区 大道 西行 便道 未管 路口 加油站 路段 人行道 包括 路灯 杆 圈 西湖 建筑...</td>\n",
       "    </tr>\n",
       "    <tr>\n",
       "      <th>1</th>\n",
       "      <td>城乡建设</td>\n",
       "      <td>\\n\\t\\t\\t\\t\\t\\n\\t\\t\\t\\t\\t位于书院路主干道的在水一方大厦一楼至四楼人为...</td>\n",
       "      <td>0</td>\n",
       "      <td>位于书院路主干道的在水一方大厦一楼至四楼人为拆除水电等设施后烂尾多年用护栏围着不但占用人行道...</td>\n",
       "      <td>位于 书院 路 主干道 在水一方 大厦 一楼 四楼 人为 拆除 水电 设施 烂尾 多年 护栏...</td>\n",
       "    </tr>\n",
       "    <tr>\n",
       "      <th>2</th>\n",
       "      <td>城乡建设</td>\n",
       "      <td>\\n\\t\\t\\t\\t\\t\\n\\t\\t\\t\\t\\t尊敬的领导：A1区苑小区位于A1区火炬路，小...</td>\n",
       "      <td>0</td>\n",
       "      <td>尊敬的领导A1区苑小区位于A1区火炬路小区物业A市程明物业管理有限公司未经小区业主同意利用业...</td>\n",
       "      <td>尊敬 领导 A1 区苑 小区 位于 A1 区 火炬 路 小区 物业 市程明 物业管理 有限公...</td>\n",
       "    </tr>\n",
       "    <tr>\n",
       "      <th>3</th>\n",
       "      <td>城乡建设</td>\n",
       "      <td>\\n\\t\\t\\t\\t\\t\\n\\t\\t\\t\\t\\tA1区A2区华庭小区高层为二次供水，楼顶水箱...</td>\n",
       "      <td>0</td>\n",
       "      <td>A1区A2区华庭小区高层为二次供水楼顶水箱长年不洗现在自来水龙头的水严重霉味大家都知道水是我...</td>\n",
       "      <td>A1 区 A2 区华庭 小区 高层 二次 供水 楼顶 水箱 长年 不洗 自来水 龙头 水 霉...</td>\n",
       "    </tr>\n",
       "    <tr>\n",
       "      <th>4</th>\n",
       "      <td>城乡建设</td>\n",
       "      <td>\\n\\t\\t\\t\\t\\t\\n\\t\\t\\t\\t\\tA1区A2区华庭小区高层为二次供水，楼顶水箱...</td>\n",
       "      <td>0</td>\n",
       "      <td>A1区A2区华庭小区高层为二次供水楼顶水箱长年不洗现在自来水龙头的水严重霉味大家都知道水是我...</td>\n",
       "      <td>A1 区 A2 区华庭 小区 高层 二次 供水 楼顶 水箱 长年 不洗 自来水 龙头 水 霉...</td>\n",
       "    </tr>\n",
       "  </tbody>\n",
       "</table>\n",
       "</div>"
      ],
      "text/plain": [
       "    cat                                             review  cat_id  \\\n",
       "0  城乡建设  \\n\\t\\t\\t\\t\\t\\n\\t\\t\\t\\t\\tA3区大道西行便道，未管所路口至加油站路段，...       0   \n",
       "1  城乡建设  \\n\\t\\t\\t\\t\\t\\n\\t\\t\\t\\t\\t位于书院路主干道的在水一方大厦一楼至四楼人为...       0   \n",
       "2  城乡建设  \\n\\t\\t\\t\\t\\t\\n\\t\\t\\t\\t\\t尊敬的领导：A1区苑小区位于A1区火炬路，小...       0   \n",
       "3  城乡建设  \\n\\t\\t\\t\\t\\t\\n\\t\\t\\t\\t\\tA1区A2区华庭小区高层为二次供水，楼顶水箱...       0   \n",
       "4  城乡建设  \\n\\t\\t\\t\\t\\t\\n\\t\\t\\t\\t\\tA1区A2区华庭小区高层为二次供水，楼顶水箱...       0   \n",
       "\n",
       "                                        clean_review  \\\n",
       "0  A3区大道西行便道未管所路口至加油站路段人行道包括路灯杆被圈西湖建筑集团燕子山安置房项目施工...   \n",
       "1  位于书院路主干道的在水一方大厦一楼至四楼人为拆除水电等设施后烂尾多年用护栏围着不但占用人行道...   \n",
       "2  尊敬的领导A1区苑小区位于A1区火炬路小区物业A市程明物业管理有限公司未经小区业主同意利用业...   \n",
       "3  A1区A2区华庭小区高层为二次供水楼顶水箱长年不洗现在自来水龙头的水严重霉味大家都知道水是我...   \n",
       "4  A1区A2区华庭小区高层为二次供水楼顶水箱长年不洗现在自来水龙头的水严重霉味大家都知道水是我...   \n",
       "\n",
       "                                          cut_review  \n",
       "0  A3 区 大道 西行 便道 未管 路口 加油站 路段 人行道 包括 路灯 杆 圈 西湖 建筑...  \n",
       "1  位于 书院 路 主干道 在水一方 大厦 一楼 四楼 人为 拆除 水电 设施 烂尾 多年 护栏...  \n",
       "2  尊敬 领导 A1 区苑 小区 位于 A1 区 火炬 路 小区 物业 市程明 物业管理 有限公...  \n",
       "3  A1 区 A2 区华庭 小区 高层 二次 供水 楼顶 水箱 长年 不洗 自来水 龙头 水 霉...  \n",
       "4  A1 区 A2 区华庭 小区 高层 二次 供水 楼顶 水箱 长年 不洗 自来水 龙头 水 霉...  "
      ]
     },
     "execution_count": 7,
     "metadata": {},
     "output_type": "execute_result"
    }
   ],
   "source": [
    "#定义删除除字母,数字，汉字以外的所有符号的函数\n",
    "def remove_punctuation(line):\n",
    "    line = str(line)\n",
    "    if line.strip()=='':\n",
    "        return ''\n",
    "    rule = re.compile(u\"[^a-zA-Z0-9\\u4E00-\\u9FA5]\")\n",
    "    line = rule.sub('',line)\n",
    "    return line\n",
    " \n",
    "def stopwordslist(filepath):  \n",
    "    stopwords = [line.strip() for line in open(filepath, 'r', encoding=\"GB18030\").readlines()]  \n",
    "    return stopwords  \n",
    " \n",
    "#加载停用词\n",
    "stopwords = stopwordslist(\"./stopword.txt\")\n",
    "#删除除字母,数字，汉字以外的所有符号\n",
    "test['clean_review'] = test['review'].apply(remove_punctuation)\n",
    "test.sample(10)\n",
    "\n",
    "#分词，并过滤停用词\n",
    "test['cut_review'] = test['clean_review'].apply(lambda x: \" \".join([w for w in list(jb.cut(x)) if w not in stopwords]))\n",
    "test.head()"
   ]
  },
  {
   "cell_type": "code",
   "execution_count": 8,
   "metadata": {},
   "outputs": [
    {
     "name": "stdout",
     "output_type": "stream",
     "text": [
      "(9210, 695514)\n",
      "-----------------------------\n",
      "  (0, 409709)\t0.15622076750032005\n",
      "  (0, 406948)\t0.15622076750032005\n",
      "  (0, 409766)\t0.15622076750032005\n",
      "  (0, 617318)\t0.15622076750032005\n",
      "  (0, 274459)\t0.14104922086949562\n",
      "  (0, 637788)\t0.15622076750032005\n",
      "  (0, 99530)\t0.14950725116664162\n",
      "  (0, 634622)\t0.15622076750032005\n",
      "  (0, 435693)\t0.15622076750032005\n",
      "  (0, 49251)\t0.15622076750032005\n",
      "  (0, 232893)\t0.15622076750032005\n",
      "  (0, 413457)\t0.14950725116664162\n",
      "  (0, 681671)\t0.13547805873688806\n",
      "  (0, 275701)\t0.15622076750032005\n",
      "  (0, 493309)\t0.15622076750032005\n",
      "  (0, 677215)\t0.15622076750032005\n",
      "  (0, 325818)\t0.14104922086949562\n",
      "  (0, 600985)\t0.14474393552322437\n",
      "  (0, 635211)\t0.15622076750032005\n",
      "  (0, 174801)\t0.14950725116664162\n",
      "  (0, 100026)\t0.14950725116664162\n",
      "  (0, 635059)\t0.14950725116664162\n",
      "  (0, 170998)\t0.15622076750032005\n",
      "  (0, 634815)\t0.14950725116664162\n",
      "  (0, 436628)\t0.15622076750032005\n",
      "  :\t:\n",
      "  (9209, 248734)\t0.058550170015307164\n",
      "  (9209, 522098)\t0.06630952940277464\n",
      "  (9209, 131196)\t0.06171503973553425\n",
      "  (9209, 457515)\t0.0552465148554352\n",
      "  (9209, 524823)\t0.06598025892069179\n",
      "  (9209, 44346)\t0.11472474495802074\n",
      "  (9209, 231152)\t0.05537159313219457\n",
      "  (9209, 482600)\t0.05950903040833499\n",
      "  (9209, 220820)\t0.09261541767584153\n",
      "  (9209, 249973)\t0.11125204404612862\n",
      "  (9209, 533132)\t0.11244423057790313\n",
      "  (9209, 683748)\t0.06550383002805645\n",
      "  (9209, 208518)\t0.0402367195948166\n",
      "  (9209, 115252)\t0.04361004606400179\n",
      "  (9209, 611704)\t0.04819305279106949\n",
      "  (9209, 383698)\t0.04945375235612954\n",
      "  (9209, 11304)\t0.04581496668640568\n",
      "  (9209, 272716)\t0.041151747672726016\n",
      "  (9209, 290904)\t0.12491678797307333\n",
      "  (9209, 319564)\t0.058803638714958854\n",
      "  (9209, 169262)\t0.07638063756778771\n",
      "  (9209, 523455)\t0.02986930540438929\n",
      "  (9209, 565099)\t0.09323973332347406\n",
      "  (9209, 572430)\t0.10470700586822615\n",
      "  (9209, 683348)\t0.024131607174174\n"
     ]
    }
   ],
   "source": [
    "tfidf = TfidfVectorizer(norm='l2', ngram_range=(1, 2))\n",
    "features = tfidf.fit_transform(test.cut_review)\n",
    "labels = test.cat_id\n",
    "print(features.shape)\n",
    "print('-----------------------------')\n",
    "print(features)"
   ]
  },
  {
   "cell_type": "code",
   "execution_count": 9,
   "metadata": {},
   "outputs": [
    {
     "name": "stdout",
     "output_type": "stream",
     "text": [
      "# '交通运输':\n",
      "  . Most correlated unigrams:\n",
      "       . 快递\n",
      "       . 出租车\n",
      "  . Most correlated bigrams:\n",
      "       . 的士 司机\n",
      "       . 出租车 司机\n",
      "# '劳动和社会保障':\n",
      "  . Most correlated unigrams:\n",
      "       . 退休\n",
      "       . 社保\n",
      "  . Most correlated bigrams:\n",
      "       . 劳动 关系\n",
      "       . 退休 人员\n",
      "# '卫生计生':\n",
      "  . Most correlated unigrams:\n",
      "       . 医生\n",
      "       . 医院\n",
      "  . Most correlated bigrams:\n",
      "       . 社会 抚养费\n",
      "       . 乡村 医生\n",
      "# '商贸旅游':\n",
      "  . Most correlated unigrams:\n",
      "       . 传销\n",
      "       . 电梯\n",
      "  . Most correlated bigrams:\n",
      "       . 小区 电梯\n",
      "       . 传销 组织\n",
      "# '城乡建设':\n",
      "  . Most correlated unigrams:\n",
      "       . 小区\n",
      "       . 业主\n",
      "  . Most correlated bigrams:\n",
      "       . 住房 公积金\n",
      "       . 公积金 贷款\n",
      "# '教育文体':\n",
      "  . Most correlated unigrams:\n",
      "       . 学生\n",
      "       . 学校\n",
      "  . Most correlated bigrams:\n",
      "       . 教育局 领导\n",
      "       . 培训 机构\n",
      "# '环境保护':\n",
      "  . Most correlated unigrams:\n",
      "       . 环保局\n",
      "       . 污染\n",
      "  . Most correlated bigrams:\n",
      "       . 周边 居民\n",
      "       . 环保局 领导\n"
     ]
    }
   ],
   "source": [
    "from sklearn.feature_selection import chi2\n",
    "import numpy as np\n",
    " \n",
    "N = 2\n",
    "for cat, cat_id in sorted(cat_to_id.items()):\n",
    "    features_chi2 = chi2(features, labels == cat_id)\n",
    "    indices = np.argsort(features_chi2[0])\n",
    "    feature_names = np.array(tfidf.get_feature_names())[indices]\n",
    "    unigrams = [v for v in feature_names if len(v.split(' ')) == 1]\n",
    "    bigrams = [v for v in feature_names if len(v.split(' ')) == 2]\n",
    "    print(\"# '{}':\".format(cat))\n",
    "    print(\"  . Most correlated unigrams:\\n       . {}\".format('\\n       . '.join(unigrams[-N:])))\n",
    "    print(\"  . Most correlated bigrams:\\n       . {}\".format('\\n       . '.join(bigrams[-N:])))"
   ]
  },
  {
   "cell_type": "code",
   "execution_count": 10,
   "metadata": {},
   "outputs": [],
   "source": [
    "#拆分训练集和测试集\n",
    "X_train, X_test, y_train, y_test = train_test_split(test['cut_review'], test['cat_id'], random_state = 0)\n",
    "count_vect = CountVectorizer()\n",
    "X_train_counts = count_vect.fit_transform(X_train)\n",
    " \n",
    "tfidf_transformer = TfidfTransformer()\n",
    "X_train_tfidf = tfidf_transformer.fit_transform(X_train_counts)\n",
    "\n",
    "\n",
    "\n",
    "from sklearn.model_selection import cross_val_score\n",
    " \n",
    "models = [\n",
    "    RandomForestClassifier(n_estimators=200, max_depth=3, random_state=0),\n",
    "    LinearSVC(),\n",
    "    MultinomialNB(),\n",
    "    LogisticRegression(random_state=0),\n",
    "]\n",
    "CV = 5\n",
    "cv_df = pd.DataFrame(index=range(CV * len(models)))\n",
    "entries = []\n",
    "for model in models:\n",
    "    model_name = model.__class__.__name__\n",
    "    accuracies = cross_val_score(model, features, labels, scoring='accuracy', cv=CV)\n",
    "    for fold_idx, accuracy in enumerate(accuracies):\n",
    "        entries.append((model_name, fold_idx, accuracy))\n",
    "cv_df = pd.DataFrame(entries, columns=['model_name', 'fold_idx', 'accuracy'])"
   ]
  },
  {
   "cell_type": "code",
   "execution_count": 11,
   "metadata": {},
   "outputs": [
    {
     "data": {
      "image/png": "[encoded data removed]",
      "text/plain": [
       "<Figure size 432x288 with 1 Axes>"
      ]
     },
     "metadata": {},
     "output_type": "display_data"
    }
   ],
   "source": [
    "sns.boxplot(x='model_name', y='accuracy', data=cv_df)\n",
    "sns.stripplot(x='model_name', y='accuracy', data=cv_df, \n",
    "              size=8, jitter=True, edgecolor=\"gray\", linewidth=2)\n",
    "plt.show()"
   ]
  },
  {
   "cell_type": "code",
   "execution_count": 12,
   "metadata": {},
   "outputs": [
    {
     "data": {
      "text/plain": [
       "model_name\n",
       "LinearSVC                 0.872856\n",
       "LogisticRegression        0.817590\n",
       "MultinomialNB             0.652009\n",
       "RandomForestClassifier    0.412486\n",
       "Name: accuracy, dtype: float64"
      ]
     },
     "execution_count": 12,
     "metadata": {},
     "output_type": "execute_result"
    }
   ],
   "source": [
    "cv_df.groupby('model_name').accuracy.mean()"
   ]
  },
  {
   "cell_type": "code",
   "execution_count": 10,
   "metadata": {},
   "outputs": [
    {
     "name": "stdout",
     "output_type": "stream",
     "text": [
      "{'C': 1.0, 'loss': 'hinge', 'penalty': 'l2', 'tol': 0.0001} 0.8953584235828818\n"
     ]
    },
    {
     "data": {
      "image/png": "[encoded data removed]",
      "text/plain": [
       "<Figure size 720x576 with 2 Axes>"
      ]
     },
     "metadata": {},
     "output_type": "display_data"
    }
   ],
   "source": [
    "#训练模型\n",
    "from sklearn.model_selection import GridSearchCV\n",
    "\n",
    "param={\n",
    "    \"penalty\":['l1','l2'],\n",
    "    \"loss\":['hinge','squared_hinge'],\n",
    "    \"tol\":[1e-4,1e-3,1e-2],\n",
    "    \"C\":[0.3,0.5,1.0]\n",
    "}\n",
    "model = LinearSVC()\n",
    "X_train, X_test, y_train, y_test, indices_train, indices_test = train_test_split(features, labels,\n",
    "                                                                                 test.index,test_size=0.2, stratify=labels, random_state=0)\n",
    "\n",
    "\n",
    "grid=GridSearchCV(model,param_grid=param,scoring='accuracy',cv=5)\n",
    "grid.fit(X_train, y_train)\n",
    "print(grid.best_params_,grid.best_score_)\n",
    "\n",
    "\n",
    "best_model=grid.best_estimator_\n",
    "best_model.fit(X_train, y_train)\n",
    "y_pred =best_model.predict(X_test)\n",
    " \n",
    " \n",
    " \n",
    "#生成混淆矩阵\n",
    "conf_mat = confusion_matrix(y_test, y_pred)\n",
    "fig, ax = plt.subplots(figsize=(10,8))\n",
    "sns.heatmap(conf_mat, annot=True, fmt='d',\n",
    "            xticklabels=cat_id_df.cat.values, yticklabels=cat_id_df.cat.values)\n",
    "plt.ylabel('实际结果',fontsize=18)\n",
    "plt.xlabel('预测结果',fontsize=18)\n",
    "plt.title(\"SVM混淆矩阵:准确率({:.2f}%)\".format(accuracy_score(y_test,y_pred)*100))\n",
    "plt.show()"
   ]
  },
  {
   "cell_type": "code",
   "execution_count": 11,
   "metadata": {},
   "outputs": [
    {
     "name": "stdout",
     "output_type": "stream",
     "text": [
      "              precision    recall  f1-score   support\n",
      "\n",
      "           0       0.84      0.94      0.89       402\n",
      "           1       0.97      0.95      0.96       188\n",
      "           2       0.96      0.75      0.84       122\n",
      "           3       0.95      0.94      0.95       318\n",
      "           4       0.91      0.95      0.93       394\n",
      "           5       0.88      0.84      0.86       243\n",
      "           6       0.94      0.85      0.89       175\n",
      "\n",
      "    accuracy                           0.91      1842\n",
      "   macro avg       0.92      0.89      0.90      1842\n",
      "weighted avg       0.91      0.91      0.91      1842\n",
      "\n"
     ]
    }
   ],
   "source": [
    "cr = classification_report(y_test, y_pred)\n",
    "print(cr)"
   ]
  },
  {
   "cell_type": "code",
   "execution_count": 12,
   "metadata": {},
   "outputs": [
    {
     "name": "stdout",
     "output_type": "stream",
     "text": [
      "F1为: 0.9078154202868197\n"
     ]
    }
   ],
   "source": [
    "F1=f1_score(y_test,y_pred,average='weighted')\n",
    "print(\"F1为:\",F1)"
   ]
  }
 ],
 "metadata": {
  "kernelspec": {
   "display_name": "Python 3",
   "language": "python",
   "name": "python3"
  },
  "language_info": {
   "codemirror_mode": {
    "name": "ipython",
    "version": 3
   },
   "file_extension": ".py",
   "mimetype": "text/x-python",
   "name": "python",
   "nbconvert_exporter": "python",
   "pygments_lexer": "ipython3",
   "version": "3.7.3"
  }
 },
 "nbformat": 4,
 "nbformat_minor": 4
}
