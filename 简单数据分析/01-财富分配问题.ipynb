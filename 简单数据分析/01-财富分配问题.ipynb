{
 "cells": [
  {
   "cell_type": "markdown",
   "metadata": {},
   "source": [
    "*问题：房间内有 100 人，每人有 100 块，每分钟随机    \n",
    "\n",
    "给另一个人 1 块钱，最后这个房间内的财富分布怎样？\n",
    "（知乎：https://www.zhihu.com/question/62250384/answer/201726206）\n",
    "建议各位先想想，你认为在完全随机的情况下，最终的\n",
    "财富分配情况是怎样的？\n",
    "\n",
    "我们不妨把这场游戏视作在一颗叫做“埃博拉”的遥远星球上社会运\n",
    "行和财富分配的简化模型，从而模拟这个世界的运行规律。我们假设：\n",
    "* 每个人在18岁带着100元的初始资金开始玩游戏，\n",
    "* 每天玩一次，一直玩到80岁的人均寿命。\n",
    "* “每天拿出一元钱”可理解为基本的日常消费，“获得财富的概率也是完全随机”\n",
    "* 这颗星球上普通智慧生命的平均寿命80岁；那么一生要玩20000次游戏，即获得20000次财富分配的机会！    \n",
    "\n",
    "对于世界的角色做出如下假设(以下代码仅考虑qian)\n",
    "* 假设1 – 负债情况 （投机者：即使财富为负依然消费）\n",
    "* 假设2 – 努力工作 （奋斗者：获得财富的几率多1%）\n",
    "* 假设3 – 存款利率 （投资者：持有财富的年利率是3%）\n",
    "* 假设4 – 技术进步 （学习者：更多知识意味着更大几率获得更多财富）\n",
    "* 假设5 – 生老病死… （唯物乐观者）\n",
    "* 假设6 – 政府介入… (税收+低保)"
   ]
  },
  {
   "cell_type": "code",
   "execution_count": 1,
   "metadata": {},
   "outputs": [
    {
     "data": {
      "text/html": [
       "<div>\n",
       "<style scoped>\n",
       "    .dataframe tbody tr th:only-of-type {\n",
       "        vertical-align: middle;\n",
       "    }\n",
       "\n",
       "    .dataframe tbody tr th {\n",
       "        vertical-align: top;\n",
       "    }\n",
       "\n",
       "    .dataframe thead th {\n",
       "        text-align: right;\n",
       "    }\n",
       "</style>\n",
       "<table border=\"1\" class=\"dataframe\">\n",
       "  <thead>\n",
       "    <tr style=\"text-align: right;\">\n",
       "      <th></th>\n",
       "      <th>id</th>\n",
       "      <th>fortune</th>\n",
       "      <th>role</th>\n",
       "      <th>p</th>\n",
       "      <th>color</th>\n",
       "    </tr>\n",
       "  </thead>\n",
       "  <tbody>\n",
       "    <tr>\n",
       "      <td>0</td>\n",
       "      <td>1</td>\n",
       "      <td>100</td>\n",
       "      <td>奋斗者</td>\n",
       "      <td>0.0101</td>\n",
       "      <td>orange</td>\n",
       "    </tr>\n",
       "    <tr>\n",
       "      <td>1</td>\n",
       "      <td>2</td>\n",
       "      <td>100</td>\n",
       "      <td>奋斗者</td>\n",
       "      <td>0.0101</td>\n",
       "      <td>orange</td>\n",
       "    </tr>\n",
       "    <tr>\n",
       "      <td>2</td>\n",
       "      <td>3</td>\n",
       "      <td>100</td>\n",
       "      <td>奋斗者</td>\n",
       "      <td>0.0101</td>\n",
       "      <td>orange</td>\n",
       "    </tr>\n",
       "    <tr>\n",
       "      <td>3</td>\n",
       "      <td>4</td>\n",
       "      <td>100</td>\n",
       "      <td>奋斗者</td>\n",
       "      <td>0.0101</td>\n",
       "      <td>orange</td>\n",
       "    </tr>\n",
       "    <tr>\n",
       "      <td>4</td>\n",
       "      <td>5</td>\n",
       "      <td>100</td>\n",
       "      <td>奋斗者</td>\n",
       "      <td>0.0101</td>\n",
       "      <td>orange</td>\n",
       "    </tr>\n",
       "  </tbody>\n",
       "</table>\n",
       "</div>"
      ],
      "text/plain": [
       "   id  fortune role       p   color\n",
       "0   1      100  奋斗者  0.0101  orange\n",
       "1   2      100  奋斗者  0.0101  orange\n",
       "2   3      100  奋斗者  0.0101  orange\n",
       "3   4      100  奋斗者  0.0101  orange\n",
       "4   5      100  奋斗者  0.0101  orange"
      ]
     },
     "execution_count": 1,
     "metadata": {},
     "output_type": "execute_result"
    }
   ],
   "source": [
    "import matplotlib.pyplot as plt\n",
    "import pandas as pd\n",
    "import numpy as np\n",
    "import random\n",
    "import seaborn as sb\n",
    "import warnings\n",
    "warnings.filterwarnings('ignore')\n",
    "plt.rcParams['font.sans-serif']='SimHei'\n",
    "plt.rcParams['axes.unicode_minus'] = False\n",
    "\n",
    "\n",
    "id=[i for i in range(1,101)]\n",
    "fortune=[100 for i in range(100)]#初始化财富\n",
    "roles=['奋斗者','投资者','投机者','普通人']\n",
    "role=['奋斗者']*10+['投资者']*10+['投机者']*10+['普通人']*70\n",
    "color=['orange']*10+['r']*10+['g']*10+['gray']*70\n",
    "p_value=[0.0101]*10+[0.899/90]*90#初始化概率\n",
    "\n",
    "df=pd.DataFrame({\n",
    "    'id':id,\n",
    "    'fortune':fortune,\n",
    "    'role':role,\n",
    "    \"p\":p_value,\n",
    "    'color':color\n",
    "})\n",
    "df.head()"
   ]
  },
  {
   "cell_type": "code",
   "execution_count": 2,
   "metadata": {},
   "outputs": [
    {
     "name": "stdout",
     "output_type": "stream",
     "text": [
      "模拟进度：100.00% "
     ]
    }
   ],
   "source": [
    "rounds=200\n",
    "for i in range(rounds):\n",
    "\n",
    "    if(i%365==0):#每年投资者的收益增加\n",
    "        index=df[df['role']=='投资者'].index\n",
    "        df.loc[index,'fortune']=df.loc[index,'fortune']*1.03\n",
    "    for j in range(100):#遍历每个人\n",
    "        df['fortune'][j]= df['fortune'][j]-1#\n",
    "        \n",
    "        while(True):\n",
    "            r1=np.random.choice(df['id'],p=df['p'])-1\n",
    "            if(r1!=j):\n",
    "                break\n",
    "        df.iloc[r1,1]+=1\n",
    "    index0=df.loc[(df['role']=='普通人') & (df['fortune']<0)].index#找到普通人资产小于0的部分\n",
    "    df.loc[index0,'fortune']=0\n",
    "    print(\"\\r模拟进度：{:.2f}%\".format((i+1)/rounds*100),end=\" \",flush=True)\n",
    "df=df.sort_values(by='fortune').reset_index()"
   ]
  },
  {
   "cell_type": "code",
   "execution_count": 16,
   "metadata": {},
   "outputs": [
    {
     "data": {
      "image/png": "[encoded data removed]",
      "text/plain": [
       "<Figure size 864x576 with 1 Axes>"
      ]
     },
     "metadata": {
      "needs_background": "light"
     },
     "output_type": "display_data"
    },
    {
     "data": {
      "text/plain": [
       "<Figure size 432x288 with 0 Axes>"
      ]
     },
     "metadata": {},
     "output_type": "display_data"
    }
   ],
   "source": [
    "\n",
    "plt.figure(figsize=(12,8))\n",
    "plt.title(\"迭代{}次后结果\".format(rounds))\n",
    "plt.bar(np.arange(len(df)),df['fortune'],color=df['color'],label=df['role'])\n",
    "\n",
    "#绘制图例\n",
    "r1=plt.Rectangle((0,0),1,1,fc=\"orange\", edgecolor = 'none') \n",
    "r2=plt.Rectangle((0,0),1,1,fc='r',  edgecolor = 'none')\n",
    "r3=plt.Rectangle((0,0),1,1,fc='g',  edgecolor = 'none')\n",
    "r4=plt.Rectangle((0,0),1,1,fc='gray',  edgecolor = 'none')\n",
    "plt.legend([r1,r2,r3,r4], roles)\n",
    "plt.ylabel(\"财富\")\n",
    "plt.show()\n",
    "plt.savefig('res1.jpg')"
   ]
  },
  {
   "cell_type": "code",
   "execution_count": 202,
   "metadata": {},
   "outputs": [
    {
     "data": {
      "text/plain": [
       "<matplotlib.axes._subplots.AxesSubplot at 0x2a640d65710>"
      ]
     },
     "execution_count": 202,
     "metadata": {},
     "output_type": "execute_result"
    },
    {
     "data": {
      "image/png": "[encoded data removed]",
      "text/plain": [
       "<Figure size 432x288 with 1 Axes>"
      ]
     },
     "metadata": {
      "needs_background": "light"
     },
     "output_type": "display_data"
    }
   ],
   "source": [
    "plt.title('各类型人的平均财富情况')\n",
    "sb.barplot(df.role,df.fortune,errwidth=0,order=roles)"
   ]
  }
 ],
 "metadata": {
  "kernelspec": {
   "display_name": "Python 3",
   "language": "python",
   "name": "python3"
  },
  "language_info": {
   "codemirror_mode": {
    "name": "ipython",
    "version": 3
   },
   "file_extension": ".py",
   "mimetype": "text/x-python",
   "name": "python",
   "nbconvert_exporter": "python",
   "pygments_lexer": "ipython3",
   "version": "3.7.1"
  }
 },
 "nbformat": 4,
 "nbformat_minor": 2
}
